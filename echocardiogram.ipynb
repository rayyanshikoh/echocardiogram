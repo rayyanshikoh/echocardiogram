{
 "metadata": {
  "language_info": {
   "codemirror_mode": {
    "name": "ipython",
    "version": 3
   },
   "file_extension": ".py",
   "mimetype": "text/x-python",
   "name": "python",
   "nbconvert_exporter": "python",
   "pygments_lexer": "ipython3",
   "version": "3.9.5"
  },
  "orig_nbformat": 2,
  "kernelspec": {
   "name": "python395jvsc74a57bd0768dd3717649b471775819f472f9a15abed5105737ab8b34cfce63ff06b7db96",
   "display_name": "Python 3.9.5 64-bit ('.venv': venv)"
  }
 },
 "nbformat": 4,
 "nbformat_minor": 2,
 "cells": [
  {
   "source": [
    "# Predicting the Survival of a Patient, 1 Year after Myocardial Infarction"
   ],
   "cell_type": "markdown",
   "metadata": {}
  },
  {
   "source": [
    "## Importing the required Modules"
   ],
   "cell_type": "markdown",
   "metadata": {}
  },
  {
   "cell_type": "code",
   "execution_count": 326,
   "metadata": {},
   "outputs": [],
   "source": [
    "import pandas as pd \n",
    "import numpy as np \n",
    "\n",
    "import seaborn as sns \n",
    "import matplotlib.pyplot as plt \n",
    "\n",
    "from sklearn.model_selection import cross_val_score, train_test_split\n",
    "from sklearn.preprocessing import StandardScaler, MinMaxScaler\n",
    "from sklearn.pipeline import make_pipeline\n",
    "from sklearn.ensemble import RandomForestClassifier\n",
    "from sklearn.metrics import accuracy_score, classification_report\n",
    "\n",
    "sns.set_style('darkgrid')\n",
    "cmap = sns.cm.mako_r\n"
   ]
  },
  {
   "source": [
    "## Importing the Data"
   ],
   "cell_type": "markdown",
   "metadata": {}
  },
  {
   "cell_type": "code",
   "execution_count": 327,
   "metadata": {},
   "outputs": [
    {
     "output_type": "stream",
     "name": "stderr",
     "text": [
      "b'Skipping line 50: expected 13 fields, saw 14\\n'\n"
     ]
    },
    {
     "output_type": "execute_result",
     "data": {
      "text/plain": [
       "      11  0  71  0.1  0.260       9  4.600    14      1    1.1  name 1.2 0.2\n",
       "0     19  0  72    0  0.380       6  4.100    14  1.700  0.588  name   1   0\n",
       "1     16  0  55    0  0.260       4  3.420    14      1      1  name   1   0\n",
       "2     57  0  60    0  0.253  12.062  4.603    16  1.450  0.788  name   1   0\n",
       "3     19  1  57    0  0.160      22  5.750    18  2.250  0.571  name   1   0\n",
       "4     26  0  68    0  0.260       5  4.310    12      1  0.857  name   1   0\n",
       "..   ... ..  ..  ...    ...     ...    ...   ...    ...    ...   ...  ..  ..\n",
       "125  7.5  1  64    0   0.24    12.9   4.72    12      1  0.857  name   ?   ?\n",
       "126   41  0  64    0   0.28    5.40   5.47    11   1.10  0.714  name   ?   ?\n",
       "127   36  0  69    0   0.20    7.00   5.05  14.5   1.21  0.857  name   ?   ?\n",
       "128   22  0  57    0   0.14    16.1   4.36    15   1.36  0.786  name   ?   ?\n",
       "129   20  0  62    0   0.15       0   4.51  15.5  1.409  0.786  name   ?   ?\n",
       "\n",
       "[130 rows x 13 columns]"
      ],
      "text/html": "<div>\n<style scoped>\n    .dataframe tbody tr th:only-of-type {\n        vertical-align: middle;\n    }\n\n    .dataframe tbody tr th {\n        vertical-align: top;\n    }\n\n    .dataframe thead th {\n        text-align: right;\n    }\n</style>\n<table border=\"1\" class=\"dataframe\">\n  <thead>\n    <tr style=\"text-align: right;\">\n      <th></th>\n      <th>11</th>\n      <th>0</th>\n      <th>71</th>\n      <th>0.1</th>\n      <th>0.260</th>\n      <th>9</th>\n      <th>4.600</th>\n      <th>14</th>\n      <th>1</th>\n      <th>1.1</th>\n      <th>name</th>\n      <th>1.2</th>\n      <th>0.2</th>\n    </tr>\n  </thead>\n  <tbody>\n    <tr>\n      <th>0</th>\n      <td>19</td>\n      <td>0</td>\n      <td>72</td>\n      <td>0</td>\n      <td>0.380</td>\n      <td>6</td>\n      <td>4.100</td>\n      <td>14</td>\n      <td>1.700</td>\n      <td>0.588</td>\n      <td>name</td>\n      <td>1</td>\n      <td>0</td>\n    </tr>\n    <tr>\n      <th>1</th>\n      <td>16</td>\n      <td>0</td>\n      <td>55</td>\n      <td>0</td>\n      <td>0.260</td>\n      <td>4</td>\n      <td>3.420</td>\n      <td>14</td>\n      <td>1</td>\n      <td>1</td>\n      <td>name</td>\n      <td>1</td>\n      <td>0</td>\n    </tr>\n    <tr>\n      <th>2</th>\n      <td>57</td>\n      <td>0</td>\n      <td>60</td>\n      <td>0</td>\n      <td>0.253</td>\n      <td>12.062</td>\n      <td>4.603</td>\n      <td>16</td>\n      <td>1.450</td>\n      <td>0.788</td>\n      <td>name</td>\n      <td>1</td>\n      <td>0</td>\n    </tr>\n    <tr>\n      <th>3</th>\n      <td>19</td>\n      <td>1</td>\n      <td>57</td>\n      <td>0</td>\n      <td>0.160</td>\n      <td>22</td>\n      <td>5.750</td>\n      <td>18</td>\n      <td>2.250</td>\n      <td>0.571</td>\n      <td>name</td>\n      <td>1</td>\n      <td>0</td>\n    </tr>\n    <tr>\n      <th>4</th>\n      <td>26</td>\n      <td>0</td>\n      <td>68</td>\n      <td>0</td>\n      <td>0.260</td>\n      <td>5</td>\n      <td>4.310</td>\n      <td>12</td>\n      <td>1</td>\n      <td>0.857</td>\n      <td>name</td>\n      <td>1</td>\n      <td>0</td>\n    </tr>\n    <tr>\n      <th>...</th>\n      <td>...</td>\n      <td>...</td>\n      <td>...</td>\n      <td>...</td>\n      <td>...</td>\n      <td>...</td>\n      <td>...</td>\n      <td>...</td>\n      <td>...</td>\n      <td>...</td>\n      <td>...</td>\n      <td>...</td>\n      <td>...</td>\n    </tr>\n    <tr>\n      <th>125</th>\n      <td>7.5</td>\n      <td>1</td>\n      <td>64</td>\n      <td>0</td>\n      <td>0.24</td>\n      <td>12.9</td>\n      <td>4.72</td>\n      <td>12</td>\n      <td>1</td>\n      <td>0.857</td>\n      <td>name</td>\n      <td>?</td>\n      <td>?</td>\n    </tr>\n    <tr>\n      <th>126</th>\n      <td>41</td>\n      <td>0</td>\n      <td>64</td>\n      <td>0</td>\n      <td>0.28</td>\n      <td>5.40</td>\n      <td>5.47</td>\n      <td>11</td>\n      <td>1.10</td>\n      <td>0.714</td>\n      <td>name</td>\n      <td>?</td>\n      <td>?</td>\n    </tr>\n    <tr>\n      <th>127</th>\n      <td>36</td>\n      <td>0</td>\n      <td>69</td>\n      <td>0</td>\n      <td>0.20</td>\n      <td>7.00</td>\n      <td>5.05</td>\n      <td>14.5</td>\n      <td>1.21</td>\n      <td>0.857</td>\n      <td>name</td>\n      <td>?</td>\n      <td>?</td>\n    </tr>\n    <tr>\n      <th>128</th>\n      <td>22</td>\n      <td>0</td>\n      <td>57</td>\n      <td>0</td>\n      <td>0.14</td>\n      <td>16.1</td>\n      <td>4.36</td>\n      <td>15</td>\n      <td>1.36</td>\n      <td>0.786</td>\n      <td>name</td>\n      <td>?</td>\n      <td>?</td>\n    </tr>\n    <tr>\n      <th>129</th>\n      <td>20</td>\n      <td>0</td>\n      <td>62</td>\n      <td>0</td>\n      <td>0.15</td>\n      <td>0</td>\n      <td>4.51</td>\n      <td>15.5</td>\n      <td>1.409</td>\n      <td>0.786</td>\n      <td>name</td>\n      <td>?</td>\n      <td>?</td>\n    </tr>\n  </tbody>\n</table>\n<p>130 rows × 13 columns</p>\n</div>"
     },
     "metadata": {},
     "execution_count": 327
    }
   ],
   "source": [
    "ds = pd.read_csv(\"./data/echocardiogram.data\", error_bad_lines=False)\n",
    "ds"
   ]
  },
  {
   "cell_type": "code",
   "execution_count": 328,
   "metadata": {},
   "outputs": [],
   "source": [
    "df = pd.DataFrame(ds)\n",
    "\n",
    "df.columns = ['survival', 'still-alive', 'age-at-heart-attack', 'pericardial-effusion', 'fractional-shortening', 'epss', 'lvdd', 'wall-motion-score', 'wall-motion-index', 'mult', 'name','group',  'alive-at-1']\n",
    "df.to_csv('./data/compiled.csv', index=False)"
   ]
  },
  {
   "cell_type": "code",
   "execution_count": 329,
   "metadata": {},
   "outputs": [
    {
     "output_type": "execute_result",
     "data": {
      "text/plain": [
       "    survival  still-alive age-at-heart-attack  pericardial-effusion  \\\n",
       "0         19            0                  72                     0   \n",
       "1         16            0                  55                     0   \n",
       "2         57            0                  60                     0   \n",
       "3         19            1                  57                     0   \n",
       "4         26            0                  68                     0   \n",
       "..       ...          ...                 ...                   ...   \n",
       "125      7.5            1                  64                     0   \n",
       "126       41            0                  64                     0   \n",
       "127       36            0                  69                     0   \n",
       "128       22            0                  57                     0   \n",
       "129       20            0                  62                     0   \n",
       "\n",
       "    fractional-shortening    epss   lvdd wall-motion-score wall-motion-index  \\\n",
       "0                   0.380       6  4.100                14             1.700   \n",
       "1                   0.260       4  3.420                14                 1   \n",
       "2                   0.253  12.062  4.603                16             1.450   \n",
       "3                   0.160      22  5.750                18             2.250   \n",
       "4                   0.260       5  4.310                12                 1   \n",
       "..                    ...     ...    ...               ...               ...   \n",
       "125                  0.24    12.9   4.72                12                 1   \n",
       "126                  0.28    5.40   5.47                11              1.10   \n",
       "127                  0.20    7.00   5.05              14.5              1.21   \n",
       "128                  0.14    16.1   4.36                15              1.36   \n",
       "129                  0.15       0   4.51              15.5             1.409   \n",
       "\n",
       "      mult  name group alive-at-1  \n",
       "0    0.588  name     1          0  \n",
       "1        1  name     1          0  \n",
       "2    0.788  name     1          0  \n",
       "3    0.571  name     1          0  \n",
       "4    0.857  name     1          0  \n",
       "..     ...   ...   ...        ...  \n",
       "125  0.857  name     ?          ?  \n",
       "126  0.714  name     ?          ?  \n",
       "127  0.857  name     ?          ?  \n",
       "128  0.786  name     ?          ?  \n",
       "129  0.786  name     ?          ?  \n",
       "\n",
       "[130 rows x 13 columns]"
      ],
      "text/html": "<div>\n<style scoped>\n    .dataframe tbody tr th:only-of-type {\n        vertical-align: middle;\n    }\n\n    .dataframe tbody tr th {\n        vertical-align: top;\n    }\n\n    .dataframe thead th {\n        text-align: right;\n    }\n</style>\n<table border=\"1\" class=\"dataframe\">\n  <thead>\n    <tr style=\"text-align: right;\">\n      <th></th>\n      <th>survival</th>\n      <th>still-alive</th>\n      <th>age-at-heart-attack</th>\n      <th>pericardial-effusion</th>\n      <th>fractional-shortening</th>\n      <th>epss</th>\n      <th>lvdd</th>\n      <th>wall-motion-score</th>\n      <th>wall-motion-index</th>\n      <th>mult</th>\n      <th>name</th>\n      <th>group</th>\n      <th>alive-at-1</th>\n    </tr>\n  </thead>\n  <tbody>\n    <tr>\n      <th>0</th>\n      <td>19</td>\n      <td>0</td>\n      <td>72</td>\n      <td>0</td>\n      <td>0.380</td>\n      <td>6</td>\n      <td>4.100</td>\n      <td>14</td>\n      <td>1.700</td>\n      <td>0.588</td>\n      <td>name</td>\n      <td>1</td>\n      <td>0</td>\n    </tr>\n    <tr>\n      <th>1</th>\n      <td>16</td>\n      <td>0</td>\n      <td>55</td>\n      <td>0</td>\n      <td>0.260</td>\n      <td>4</td>\n      <td>3.420</td>\n      <td>14</td>\n      <td>1</td>\n      <td>1</td>\n      <td>name</td>\n      <td>1</td>\n      <td>0</td>\n    </tr>\n    <tr>\n      <th>2</th>\n      <td>57</td>\n      <td>0</td>\n      <td>60</td>\n      <td>0</td>\n      <td>0.253</td>\n      <td>12.062</td>\n      <td>4.603</td>\n      <td>16</td>\n      <td>1.450</td>\n      <td>0.788</td>\n      <td>name</td>\n      <td>1</td>\n      <td>0</td>\n    </tr>\n    <tr>\n      <th>3</th>\n      <td>19</td>\n      <td>1</td>\n      <td>57</td>\n      <td>0</td>\n      <td>0.160</td>\n      <td>22</td>\n      <td>5.750</td>\n      <td>18</td>\n      <td>2.250</td>\n      <td>0.571</td>\n      <td>name</td>\n      <td>1</td>\n      <td>0</td>\n    </tr>\n    <tr>\n      <th>4</th>\n      <td>26</td>\n      <td>0</td>\n      <td>68</td>\n      <td>0</td>\n      <td>0.260</td>\n      <td>5</td>\n      <td>4.310</td>\n      <td>12</td>\n      <td>1</td>\n      <td>0.857</td>\n      <td>name</td>\n      <td>1</td>\n      <td>0</td>\n    </tr>\n    <tr>\n      <th>...</th>\n      <td>...</td>\n      <td>...</td>\n      <td>...</td>\n      <td>...</td>\n      <td>...</td>\n      <td>...</td>\n      <td>...</td>\n      <td>...</td>\n      <td>...</td>\n      <td>...</td>\n      <td>...</td>\n      <td>...</td>\n      <td>...</td>\n    </tr>\n    <tr>\n      <th>125</th>\n      <td>7.5</td>\n      <td>1</td>\n      <td>64</td>\n      <td>0</td>\n      <td>0.24</td>\n      <td>12.9</td>\n      <td>4.72</td>\n      <td>12</td>\n      <td>1</td>\n      <td>0.857</td>\n      <td>name</td>\n      <td>?</td>\n      <td>?</td>\n    </tr>\n    <tr>\n      <th>126</th>\n      <td>41</td>\n      <td>0</td>\n      <td>64</td>\n      <td>0</td>\n      <td>0.28</td>\n      <td>5.40</td>\n      <td>5.47</td>\n      <td>11</td>\n      <td>1.10</td>\n      <td>0.714</td>\n      <td>name</td>\n      <td>?</td>\n      <td>?</td>\n    </tr>\n    <tr>\n      <th>127</th>\n      <td>36</td>\n      <td>0</td>\n      <td>69</td>\n      <td>0</td>\n      <td>0.20</td>\n      <td>7.00</td>\n      <td>5.05</td>\n      <td>14.5</td>\n      <td>1.21</td>\n      <td>0.857</td>\n      <td>name</td>\n      <td>?</td>\n      <td>?</td>\n    </tr>\n    <tr>\n      <th>128</th>\n      <td>22</td>\n      <td>0</td>\n      <td>57</td>\n      <td>0</td>\n      <td>0.14</td>\n      <td>16.1</td>\n      <td>4.36</td>\n      <td>15</td>\n      <td>1.36</td>\n      <td>0.786</td>\n      <td>name</td>\n      <td>?</td>\n      <td>?</td>\n    </tr>\n    <tr>\n      <th>129</th>\n      <td>20</td>\n      <td>0</td>\n      <td>62</td>\n      <td>0</td>\n      <td>0.15</td>\n      <td>0</td>\n      <td>4.51</td>\n      <td>15.5</td>\n      <td>1.409</td>\n      <td>0.786</td>\n      <td>name</td>\n      <td>?</td>\n      <td>?</td>\n    </tr>\n  </tbody>\n</table>\n<p>130 rows × 13 columns</p>\n</div>"
     },
     "metadata": {},
     "execution_count": 329
    }
   ],
   "source": [
    "df = pd.read_csv(\"./data/compiled.csv\")\n",
    "df"
   ]
  },
  {
   "source": [
    "## Data Preprocessing"
   ],
   "cell_type": "markdown",
   "metadata": {}
  },
  {
   "source": [
    "### Removing unnecessary columns"
   ],
   "cell_type": "markdown",
   "metadata": {}
  },
  {
   "cell_type": "code",
   "execution_count": 330,
   "metadata": {},
   "outputs": [
    {
     "output_type": "execute_result",
     "data": {
      "text/plain": [
       "    survival  still-alive age-at-heart-attack  pericardial-effusion  \\\n",
       "0         19            0                  72                     0   \n",
       "1         16            0                  55                     0   \n",
       "2         57            0                  60                     0   \n",
       "3         19            1                  57                     0   \n",
       "4         26            0                  68                     0   \n",
       "..       ...          ...                 ...                   ...   \n",
       "125      7.5            1                  64                     0   \n",
       "126       41            0                  64                     0   \n",
       "127       36            0                  69                     0   \n",
       "128       22            0                  57                     0   \n",
       "129       20            0                  62                     0   \n",
       "\n",
       "    fractional-shortening    epss   lvdd wall-motion-index alive-at-1  \n",
       "0                   0.380       6  4.100             1.700          0  \n",
       "1                   0.260       4  3.420                 1          0  \n",
       "2                   0.253  12.062  4.603             1.450          0  \n",
       "3                   0.160      22  5.750             2.250          0  \n",
       "4                   0.260       5  4.310                 1          0  \n",
       "..                    ...     ...    ...               ...        ...  \n",
       "125                  0.24    12.9   4.72                 1          ?  \n",
       "126                  0.28    5.40   5.47              1.10          ?  \n",
       "127                  0.20    7.00   5.05              1.21          ?  \n",
       "128                  0.14    16.1   4.36              1.36          ?  \n",
       "129                  0.15       0   4.51             1.409          ?  \n",
       "\n",
       "[130 rows x 9 columns]"
      ],
      "text/html": "<div>\n<style scoped>\n    .dataframe tbody tr th:only-of-type {\n        vertical-align: middle;\n    }\n\n    .dataframe tbody tr th {\n        vertical-align: top;\n    }\n\n    .dataframe thead th {\n        text-align: right;\n    }\n</style>\n<table border=\"1\" class=\"dataframe\">\n  <thead>\n    <tr style=\"text-align: right;\">\n      <th></th>\n      <th>survival</th>\n      <th>still-alive</th>\n      <th>age-at-heart-attack</th>\n      <th>pericardial-effusion</th>\n      <th>fractional-shortening</th>\n      <th>epss</th>\n      <th>lvdd</th>\n      <th>wall-motion-index</th>\n      <th>alive-at-1</th>\n    </tr>\n  </thead>\n  <tbody>\n    <tr>\n      <th>0</th>\n      <td>19</td>\n      <td>0</td>\n      <td>72</td>\n      <td>0</td>\n      <td>0.380</td>\n      <td>6</td>\n      <td>4.100</td>\n      <td>1.700</td>\n      <td>0</td>\n    </tr>\n    <tr>\n      <th>1</th>\n      <td>16</td>\n      <td>0</td>\n      <td>55</td>\n      <td>0</td>\n      <td>0.260</td>\n      <td>4</td>\n      <td>3.420</td>\n      <td>1</td>\n      <td>0</td>\n    </tr>\n    <tr>\n      <th>2</th>\n      <td>57</td>\n      <td>0</td>\n      <td>60</td>\n      <td>0</td>\n      <td>0.253</td>\n      <td>12.062</td>\n      <td>4.603</td>\n      <td>1.450</td>\n      <td>0</td>\n    </tr>\n    <tr>\n      <th>3</th>\n      <td>19</td>\n      <td>1</td>\n      <td>57</td>\n      <td>0</td>\n      <td>0.160</td>\n      <td>22</td>\n      <td>5.750</td>\n      <td>2.250</td>\n      <td>0</td>\n    </tr>\n    <tr>\n      <th>4</th>\n      <td>26</td>\n      <td>0</td>\n      <td>68</td>\n      <td>0</td>\n      <td>0.260</td>\n      <td>5</td>\n      <td>4.310</td>\n      <td>1</td>\n      <td>0</td>\n    </tr>\n    <tr>\n      <th>...</th>\n      <td>...</td>\n      <td>...</td>\n      <td>...</td>\n      <td>...</td>\n      <td>...</td>\n      <td>...</td>\n      <td>...</td>\n      <td>...</td>\n      <td>...</td>\n    </tr>\n    <tr>\n      <th>125</th>\n      <td>7.5</td>\n      <td>1</td>\n      <td>64</td>\n      <td>0</td>\n      <td>0.24</td>\n      <td>12.9</td>\n      <td>4.72</td>\n      <td>1</td>\n      <td>?</td>\n    </tr>\n    <tr>\n      <th>126</th>\n      <td>41</td>\n      <td>0</td>\n      <td>64</td>\n      <td>0</td>\n      <td>0.28</td>\n      <td>5.40</td>\n      <td>5.47</td>\n      <td>1.10</td>\n      <td>?</td>\n    </tr>\n    <tr>\n      <th>127</th>\n      <td>36</td>\n      <td>0</td>\n      <td>69</td>\n      <td>0</td>\n      <td>0.20</td>\n      <td>7.00</td>\n      <td>5.05</td>\n      <td>1.21</td>\n      <td>?</td>\n    </tr>\n    <tr>\n      <th>128</th>\n      <td>22</td>\n      <td>0</td>\n      <td>57</td>\n      <td>0</td>\n      <td>0.14</td>\n      <td>16.1</td>\n      <td>4.36</td>\n      <td>1.36</td>\n      <td>?</td>\n    </tr>\n    <tr>\n      <th>129</th>\n      <td>20</td>\n      <td>0</td>\n      <td>62</td>\n      <td>0</td>\n      <td>0.15</td>\n      <td>0</td>\n      <td>4.51</td>\n      <td>1.409</td>\n      <td>?</td>\n    </tr>\n  </tbody>\n</table>\n<p>130 rows × 9 columns</p>\n</div>"
     },
     "metadata": {},
     "execution_count": 330
    }
   ],
   "source": [
    "df.drop([\"wall-motion-score\", \"mult\", \"name\", \"group\"],axis=1, inplace=True)\n",
    "df"
   ]
  },
  {
   "cell_type": "code",
   "execution_count": 331,
   "metadata": {},
   "outputs": [
    {
     "output_type": "stream",
     "name": "stdout",
     "text": [
      "<class 'pandas.core.frame.DataFrame'>\nRangeIndex: 130 entries, 0 to 129\nData columns (total 9 columns):\n #   Column                 Non-Null Count  Dtype \n---  ------                 --------------  ----- \n 0   survival               130 non-null    object\n 1   still-alive            130 non-null    int64 \n 2   age-at-heart-attack    130 non-null    object\n 3   pericardial-effusion   130 non-null    int64 \n 4   fractional-shortening  130 non-null    object\n 5   epss                   130 non-null    object\n 6   lvdd                   130 non-null    object\n 7   wall-motion-index      130 non-null    object\n 8   alive-at-1             130 non-null    object\ndtypes: int64(2), object(7)\nmemory usage: 9.3+ KB\n"
     ]
    }
   ],
   "source": [
    "df.info()"
   ]
  },
  {
   "source": [
    "For some of the data, whether they were alive at 1 year since the incident, is unknown and marked with a \"?\". This has been removed."
   ],
   "cell_type": "markdown",
   "metadata": {}
  },
  {
   "cell_type": "code",
   "execution_count": 332,
   "metadata": {},
   "outputs": [
    {
     "output_type": "execute_result",
     "data": {
      "text/plain": [
       "    survival  still-alive age-at-heart-attack  pericardial-effusion  \\\n",
       "0         19            0                  72                     0   \n",
       "1         16            0                  55                     0   \n",
       "2         57            0                  60                     0   \n",
       "3         19            1                  57                     0   \n",
       "4         26            0                  68                     0   \n",
       "..       ...          ...                 ...                   ...   \n",
       "102     1.25            1                  63                     0   \n",
       "103       24            0                  59                     0   \n",
       "104       25            0                  57                     0   \n",
       "106      .75            1                  78                     0   \n",
       "107        3            1                  62                     0   \n",
       "\n",
       "    fractional-shortening    epss   lvdd wall-motion-index alive-at-1  \n",
       "0                   0.380       6  4.100             1.700          0  \n",
       "1                   0.260       4  3.420                 1          0  \n",
       "2                   0.253  12.062  4.603             1.450          0  \n",
       "3                   0.160      22  5.750             2.250          0  \n",
       "4                   0.260       5  4.310                 1          0  \n",
       "..                    ...     ...    ...               ...        ...  \n",
       "102                  0.30     6.9   3.52              1.51          1  \n",
       "103                  0.17    14.3   5.49              1.50          0  \n",
       "104                 0.228     9.7   4.29                 1          0  \n",
       "106                  0.23      40   6.23               1.4          1  \n",
       "107                  0.26     7.6   4.42                 1          1  \n",
       "\n",
       "[73 rows x 9 columns]"
      ],
      "text/html": "<div>\n<style scoped>\n    .dataframe tbody tr th:only-of-type {\n        vertical-align: middle;\n    }\n\n    .dataframe tbody tr th {\n        vertical-align: top;\n    }\n\n    .dataframe thead th {\n        text-align: right;\n    }\n</style>\n<table border=\"1\" class=\"dataframe\">\n  <thead>\n    <tr style=\"text-align: right;\">\n      <th></th>\n      <th>survival</th>\n      <th>still-alive</th>\n      <th>age-at-heart-attack</th>\n      <th>pericardial-effusion</th>\n      <th>fractional-shortening</th>\n      <th>epss</th>\n      <th>lvdd</th>\n      <th>wall-motion-index</th>\n      <th>alive-at-1</th>\n    </tr>\n  </thead>\n  <tbody>\n    <tr>\n      <th>0</th>\n      <td>19</td>\n      <td>0</td>\n      <td>72</td>\n      <td>0</td>\n      <td>0.380</td>\n      <td>6</td>\n      <td>4.100</td>\n      <td>1.700</td>\n      <td>0</td>\n    </tr>\n    <tr>\n      <th>1</th>\n      <td>16</td>\n      <td>0</td>\n      <td>55</td>\n      <td>0</td>\n      <td>0.260</td>\n      <td>4</td>\n      <td>3.420</td>\n      <td>1</td>\n      <td>0</td>\n    </tr>\n    <tr>\n      <th>2</th>\n      <td>57</td>\n      <td>0</td>\n      <td>60</td>\n      <td>0</td>\n      <td>0.253</td>\n      <td>12.062</td>\n      <td>4.603</td>\n      <td>1.450</td>\n      <td>0</td>\n    </tr>\n    <tr>\n      <th>3</th>\n      <td>19</td>\n      <td>1</td>\n      <td>57</td>\n      <td>0</td>\n      <td>0.160</td>\n      <td>22</td>\n      <td>5.750</td>\n      <td>2.250</td>\n      <td>0</td>\n    </tr>\n    <tr>\n      <th>4</th>\n      <td>26</td>\n      <td>0</td>\n      <td>68</td>\n      <td>0</td>\n      <td>0.260</td>\n      <td>5</td>\n      <td>4.310</td>\n      <td>1</td>\n      <td>0</td>\n    </tr>\n    <tr>\n      <th>...</th>\n      <td>...</td>\n      <td>...</td>\n      <td>...</td>\n      <td>...</td>\n      <td>...</td>\n      <td>...</td>\n      <td>...</td>\n      <td>...</td>\n      <td>...</td>\n    </tr>\n    <tr>\n      <th>102</th>\n      <td>1.25</td>\n      <td>1</td>\n      <td>63</td>\n      <td>0</td>\n      <td>0.30</td>\n      <td>6.9</td>\n      <td>3.52</td>\n      <td>1.51</td>\n      <td>1</td>\n    </tr>\n    <tr>\n      <th>103</th>\n      <td>24</td>\n      <td>0</td>\n      <td>59</td>\n      <td>0</td>\n      <td>0.17</td>\n      <td>14.3</td>\n      <td>5.49</td>\n      <td>1.50</td>\n      <td>0</td>\n    </tr>\n    <tr>\n      <th>104</th>\n      <td>25</td>\n      <td>0</td>\n      <td>57</td>\n      <td>0</td>\n      <td>0.228</td>\n      <td>9.7</td>\n      <td>4.29</td>\n      <td>1</td>\n      <td>0</td>\n    </tr>\n    <tr>\n      <th>106</th>\n      <td>.75</td>\n      <td>1</td>\n      <td>78</td>\n      <td>0</td>\n      <td>0.23</td>\n      <td>40</td>\n      <td>6.23</td>\n      <td>1.4</td>\n      <td>1</td>\n    </tr>\n    <tr>\n      <th>107</th>\n      <td>3</td>\n      <td>1</td>\n      <td>62</td>\n      <td>0</td>\n      <td>0.26</td>\n      <td>7.6</td>\n      <td>4.42</td>\n      <td>1</td>\n      <td>1</td>\n    </tr>\n  </tbody>\n</table>\n<p>73 rows × 9 columns</p>\n</div>"
     },
     "metadata": {},
     "execution_count": 332
    }
   ],
   "source": [
    "names = df[ df['alive-at-1'] == '?'].index\n",
    "df.drop(names, inplace=True)\n",
    "df"
   ]
  },
  {
   "source": [
    "### Converting all the \"?\" to NaN"
   ],
   "cell_type": "markdown",
   "metadata": {}
  },
  {
   "cell_type": "code",
   "execution_count": 333,
   "metadata": {},
   "outputs": [
    {
     "output_type": "execute_result",
     "data": {
      "text/plain": [
       "     survival  still-alive  age-at-heart-attack  pericardial-effusion  \\\n",
       "0       19.00            0                 72.0                     0   \n",
       "1       16.00            0                 55.0                     0   \n",
       "2       57.00            0                 60.0                     0   \n",
       "3       19.00            1                 57.0                     0   \n",
       "4       26.00            0                 68.0                     0   \n",
       "..        ...          ...                  ...                   ...   \n",
       "102      1.25            1                 63.0                     0   \n",
       "103     24.00            0                 59.0                     0   \n",
       "104     25.00            0                 57.0                     0   \n",
       "106      0.75            1                 78.0                     0   \n",
       "107      3.00            1                 62.0                     0   \n",
       "\n",
       "     fractional-shortening    epss   lvdd  wall-motion-index  alive-at-1  \n",
       "0                    0.380   6.000  4.100               1.70           0  \n",
       "1                    0.260   4.000  3.420               1.00           0  \n",
       "2                    0.253  12.062  4.603               1.45           0  \n",
       "3                    0.160  22.000  5.750               2.25           0  \n",
       "4                    0.260   5.000  4.310               1.00           0  \n",
       "..                     ...     ...    ...                ...         ...  \n",
       "102                  0.300   6.900  3.520               1.51           1  \n",
       "103                  0.170  14.300  5.490               1.50           0  \n",
       "104                  0.228   9.700  4.290               1.00           0  \n",
       "106                  0.230  40.000  6.230               1.40           1  \n",
       "107                  0.260   7.600  4.420               1.00           1  \n",
       "\n",
       "[73 rows x 9 columns]"
      ],
      "text/html": "<div>\n<style scoped>\n    .dataframe tbody tr th:only-of-type {\n        vertical-align: middle;\n    }\n\n    .dataframe tbody tr th {\n        vertical-align: top;\n    }\n\n    .dataframe thead th {\n        text-align: right;\n    }\n</style>\n<table border=\"1\" class=\"dataframe\">\n  <thead>\n    <tr style=\"text-align: right;\">\n      <th></th>\n      <th>survival</th>\n      <th>still-alive</th>\n      <th>age-at-heart-attack</th>\n      <th>pericardial-effusion</th>\n      <th>fractional-shortening</th>\n      <th>epss</th>\n      <th>lvdd</th>\n      <th>wall-motion-index</th>\n      <th>alive-at-1</th>\n    </tr>\n  </thead>\n  <tbody>\n    <tr>\n      <th>0</th>\n      <td>19.00</td>\n      <td>0</td>\n      <td>72.0</td>\n      <td>0</td>\n      <td>0.380</td>\n      <td>6.000</td>\n      <td>4.100</td>\n      <td>1.70</td>\n      <td>0</td>\n    </tr>\n    <tr>\n      <th>1</th>\n      <td>16.00</td>\n      <td>0</td>\n      <td>55.0</td>\n      <td>0</td>\n      <td>0.260</td>\n      <td>4.000</td>\n      <td>3.420</td>\n      <td>1.00</td>\n      <td>0</td>\n    </tr>\n    <tr>\n      <th>2</th>\n      <td>57.00</td>\n      <td>0</td>\n      <td>60.0</td>\n      <td>0</td>\n      <td>0.253</td>\n      <td>12.062</td>\n      <td>4.603</td>\n      <td>1.45</td>\n      <td>0</td>\n    </tr>\n    <tr>\n      <th>3</th>\n      <td>19.00</td>\n      <td>1</td>\n      <td>57.0</td>\n      <td>0</td>\n      <td>0.160</td>\n      <td>22.000</td>\n      <td>5.750</td>\n      <td>2.25</td>\n      <td>0</td>\n    </tr>\n    <tr>\n      <th>4</th>\n      <td>26.00</td>\n      <td>0</td>\n      <td>68.0</td>\n      <td>0</td>\n      <td>0.260</td>\n      <td>5.000</td>\n      <td>4.310</td>\n      <td>1.00</td>\n      <td>0</td>\n    </tr>\n    <tr>\n      <th>...</th>\n      <td>...</td>\n      <td>...</td>\n      <td>...</td>\n      <td>...</td>\n      <td>...</td>\n      <td>...</td>\n      <td>...</td>\n      <td>...</td>\n      <td>...</td>\n    </tr>\n    <tr>\n      <th>102</th>\n      <td>1.25</td>\n      <td>1</td>\n      <td>63.0</td>\n      <td>0</td>\n      <td>0.300</td>\n      <td>6.900</td>\n      <td>3.520</td>\n      <td>1.51</td>\n      <td>1</td>\n    </tr>\n    <tr>\n      <th>103</th>\n      <td>24.00</td>\n      <td>0</td>\n      <td>59.0</td>\n      <td>0</td>\n      <td>0.170</td>\n      <td>14.300</td>\n      <td>5.490</td>\n      <td>1.50</td>\n      <td>0</td>\n    </tr>\n    <tr>\n      <th>104</th>\n      <td>25.00</td>\n      <td>0</td>\n      <td>57.0</td>\n      <td>0</td>\n      <td>0.228</td>\n      <td>9.700</td>\n      <td>4.290</td>\n      <td>1.00</td>\n      <td>0</td>\n    </tr>\n    <tr>\n      <th>106</th>\n      <td>0.75</td>\n      <td>1</td>\n      <td>78.0</td>\n      <td>0</td>\n      <td>0.230</td>\n      <td>40.000</td>\n      <td>6.230</td>\n      <td>1.40</td>\n      <td>1</td>\n    </tr>\n    <tr>\n      <th>107</th>\n      <td>3.00</td>\n      <td>1</td>\n      <td>62.0</td>\n      <td>0</td>\n      <td>0.260</td>\n      <td>7.600</td>\n      <td>4.420</td>\n      <td>1.00</td>\n      <td>1</td>\n    </tr>\n  </tbody>\n</table>\n<p>73 rows × 9 columns</p>\n</div>"
     },
     "metadata": {},
     "execution_count": 333
    }
   ],
   "source": [
    "df['survival'] = pd.to_numeric(df['survival'], errors='coerce')\n",
    "df['still-alive'] = pd.to_numeric(df['still-alive'], errors='coerce')\n",
    "df['age-at-heart-attack'] = pd.to_numeric(df['age-at-heart-attack'], errors='coerce')\n",
    "df['pericardial-effusion'] = pd.to_numeric(df['pericardial-effusion'], errors='coerce')\n",
    "df['fractional-shortening'] = pd.to_numeric(df['fractional-shortening'], errors='coerce')\n",
    "df['epss'] = pd.to_numeric(df['epss'], errors='coerce')\n",
    "df['lvdd'] = pd.to_numeric(df['lvdd'], errors='coerce')\n",
    "df['wall-motion-index'] = pd.to_numeric(df['wall-motion-index'], errors='coerce')\n",
    "df['alive-at-1'] = pd.to_numeric(df['alive-at-1'], errors='coerce')\n",
    "df"
   ]
  },
  {
   "cell_type": "code",
   "execution_count": 334,
   "metadata": {},
   "outputs": [
    {
     "output_type": "stream",
     "name": "stdout",
     "text": [
      "<class 'pandas.core.frame.DataFrame'>\nInt64Index: 73 entries, 0 to 107\nData columns (total 9 columns):\n #   Column                 Non-Null Count  Dtype  \n---  ------                 --------------  -----  \n 0   survival               72 non-null     float64\n 1   still-alive            73 non-null     int64  \n 2   age-at-heart-attack    72 non-null     float64\n 3   pericardial-effusion   73 non-null     int64  \n 4   fractional-shortening  69 non-null     float64\n 5   epss                   65 non-null     float64\n 6   lvdd                   67 non-null     float64\n 7   wall-motion-index      72 non-null     float64\n 8   alive-at-1             73 non-null     int64  \ndtypes: float64(6), int64(3)\nmemory usage: 5.7 KB\n"
     ]
    }
   ],
   "source": [
    "df.info()"
   ]
  },
  {
   "source": [
    "We have non-nulls in survival (continuous), age at heart attack (continuous), fractional-shortening(continuous), epss(continuous), lvdd (continuous) and wall-motion-index (continuous)"
   ],
   "cell_type": "markdown",
   "metadata": {}
  },
  {
   "cell_type": "code",
   "execution_count": 335,
   "metadata": {},
   "outputs": [],
   "source": [
    "df = df.sample(frac=1).reset_index(drop=True)\n",
    "\n",
    "X = df.drop(\"alive-at-1\", axis=1)\n",
    "y=df[\"alive-at-1\"]"
   ]
  },
  {
   "cell_type": "code",
   "execution_count": 336,
   "metadata": {},
   "outputs": [],
   "source": [
    "X_train, X_test, y_train, y_test = train_test_split(X, y, test_size=0.2, random_state=42)\n",
    "\n",
    "X_train, X_val, y_train, y_val = train_test_split(X_train, y_train, test_size=0.25, random_state=42) # 0.25 x 0.8 = 0.2"
   ]
  },
  {
   "cell_type": "code",
   "execution_count": 337,
   "metadata": {},
   "outputs": [
    {
     "output_type": "stream",
     "name": "stderr",
     "text": [
      "/Users/rayyanshikoh/VSCodeProjects/Heart-Attack/.venv/lib/python3.9/site-packages/pandas/core/series.py:4463: SettingWithCopyWarning: \nA value is trying to be set on a copy of a slice from a DataFrame\n\nSee the caveats in the documentation: https://pandas.pydata.org/pandas-docs/stable/user_guide/indexing.html#returning-a-view-versus-a-copy\n  return super().fillna(\n"
     ]
    }
   ],
   "source": [
    "X_train.fillna(X_train.mean(), inplace=True)\n",
    "X_test.fillna(X_test.mean(), inplace=True)\n",
    "X_val.fillna(X_val.mean(), inplace=True)\n",
    "X_cv = X.fillna(X.mean())"
   ]
  },
  {
   "cell_type": "code",
   "execution_count": 338,
   "metadata": {},
   "outputs": [
    {
     "output_type": "stream",
     "name": "stdout",
     "text": [
      "Accuracy Score : 86.67%\n0.99 accuracy with a standard deviation of 0.04\n              precision    recall  f1-score   support\n\n           0       0.90      0.90      0.90        10\n           1       0.80      0.80      0.80         5\n\n    accuracy                           0.87        15\n   macro avg       0.85      0.85      0.85        15\nweighted avg       0.87      0.87      0.87        15\n\n"
     ]
    },
    {
     "output_type": "display_data",
     "data": {
      "text/plain": "<Figure size 432x288 with 2 Axes>",
      "image/svg+xml": "<?xml version=\"1.0\" encoding=\"utf-8\" standalone=\"no\"?>\n<!DOCTYPE svg PUBLIC \"-//W3C//DTD SVG 1.1//EN\"\n  \"http://www.w3.org/Graphics/SVG/1.1/DTD/svg11.dtd\">\n<svg height=\"264.709531pt\" version=\"1.1\" viewBox=\"0 0 297.719187 264.709531\" width=\"297.719187pt\" xmlns=\"http://www.w3.org/2000/svg\" xmlns:xlink=\"http://www.w3.org/1999/xlink\">\n <metadata>\n  <rdf:RDF xmlns:cc=\"http://creativecommons.org/ns#\" xmlns:dc=\"http://purl.org/dc/elements/1.1/\" xmlns:rdf=\"http://www.w3.org/1999/02/22-rdf-syntax-ns#\">\n   <cc:Work>\n    <dc:type rdf:resource=\"http://purl.org/dc/dcmitype/StillImage\"/>\n    <dc:date>2021-06-03T11:15:56.220436</dc:date>\n    <dc:format>image/svg+xml</dc:format>\n    <dc:creator>\n     <cc:Agent>\n      <dc:title>Matplotlib v3.4.2, https://matplotlib.org/</dc:title>\n     </cc:Agent>\n    </dc:creator>\n   </cc:Work>\n  </rdf:RDF>\n </metadata>\n <defs>\n  <style type=\"text/css\">*{stroke-linecap:butt;stroke-linejoin:round;}</style>\n </defs>\n <g id=\"figure_1\">\n  <g id=\"patch_1\">\n   <path d=\"M 0 264.709531 \nL 297.719187 264.709531 \nL 297.719187 0 \nL 0 0 \nz\n\" style=\"fill:#ffffff;\"/>\n  </g>\n  <g id=\"axes_1\">\n   <g id=\"patch_2\">\n    <path d=\"M 32.90625 228.218906 \nL 250.34625 228.218906 \nL 250.34625 10.778906 \nL 32.90625 10.778906 \nz\n\" style=\"fill:#eaeaf2;\"/>\n   </g>\n   <g clip-path=\"url(#pbb04cc71d6)\">\n    <image height=\"218\" id=\"image871e31afb9\" transform=\"scale(1 -1)translate(0 -218)\" width=\"218\" x=\"32.90625\" xlink:href=\"data:image/png;base64,\niVBORw0KGgoAAAANSUhEUgAAANoAAADaCAYAAADAHVzbAAACmUlEQVR4nO3VsQ3CQAAEQQwioj96dCM04BwSGkAit2v4ZF+ImQouWd3y/L73Ez/lvj5mT2DQefYA+AdCg4DQICA0CAgNAkKDgNAgIDQICA0CQoOA0CAgNAgIDQJCg4DQICA0CAgNAkKDgNAgIDQICA0CQoOA0CAgNAgIDQJCg4DQICA0CAgNAkKDgNAgIDQICA0CQoOA0CAgNAgIDQJCg4DQICA0CAgNAkKDgNAgIDQICA0CQoOA0CAgNAgIDQJCg4DQICA0CAgNAkKDgNAgIDQICA0CQoOA0CAgNAgIDQJCg4DQICA0CAgNAkKDgNAgIDQICA0CQoOA0CAgNAgIDQJCg4DQICA0CAgNAkKDgNAgIDQICA0CQoOA0CAgNAgIDQJCg4DQICA0CAgNAkKDgNAgIDQICA0CQoOA0CAgNAgIDQJCg4DQICA0CAgNAkKDgNAgIDQICA0CQoOA0CAgNAgst8t1nz2CMdvnNXsCgzwaBIQGAaFBQGgQEBoEhAYBoUFAaBAQGgSEBgGhQUBoEBAaBIQGAaFBQGgQEBoEhAYBoUFAaBAQGgSEBgGhQUBoEBAaBIQGAaFBQGgQEBoEhAYBoUFAaBAQGgSEBgGhQUBoEBAaBIQGAaFBQGgQEBoEhAYBoUFAaBAQGgSEBgGhQUBoEBAaBIQGAaFBQGgQEBoEhAYBoUFAaBAQGgSEBgGhQUBoEBAaBIQGAaFBQGgQEBoEhAYBoUFAaBAQGgSEBgGhQUBoEBAaBIQGAaFBQGgQEBoEhAYBoUFAaBAQGgSEBgGhQUBoEBAaBIQGAaFBQGgQEBoEhAYBoUFAaBAQGgSEBgGhQUBoEBAaBIQGAaFBQGgQEBoEhAYBoUFAaBAQGgSEBgGhQUBoEDgAmJMK4qcKfFQAAAAASUVORK5CYII=\" y=\"-10.218906\"/>\n   </g>\n   <g id=\"matplotlib.axis_1\">\n    <g id=\"xtick_1\">\n     <g id=\"text_1\">\n      <!-- 0 -->\n      <g style=\"fill:#262626;\" transform=\"translate(84.485781 242.376719)scale(0.1 -0.1)\">\n       <defs>\n        <path d=\"M 266 2259 \nQ 266 3072 433 3567 \nQ 600 4063 929 4331 \nQ 1259 4600 1759 4600 \nQ 2128 4600 2406 4451 \nQ 2684 4303 2865 4023 \nQ 3047 3744 3150 3342 \nQ 3253 2941 3253 2259 \nQ 3253 1453 3087 958 \nQ 2922 463 2592 192 \nQ 2263 -78 1759 -78 \nQ 1097 -78 719 397 \nQ 266 969 266 2259 \nz\nM 844 2259 \nQ 844 1131 1108 757 \nQ 1372 384 1759 384 \nQ 2147 384 2411 759 \nQ 2675 1134 2675 2259 \nQ 2675 3391 2411 3762 \nQ 2147 4134 1753 4134 \nQ 1366 4134 1134 3806 \nQ 844 3388 844 2259 \nz\n\" id=\"ArialMT-30\" transform=\"scale(0.015625)\"/>\n       </defs>\n       <use xlink:href=\"#ArialMT-30\"/>\n      </g>\n     </g>\n    </g>\n    <g id=\"xtick_2\">\n     <g id=\"text_2\">\n      <!-- 1 -->\n      <g style=\"fill:#262626;\" transform=\"translate(193.205781 242.376719)scale(0.1 -0.1)\">\n       <defs>\n        <path d=\"M 2384 0 \nL 1822 0 \nL 1822 3584 \nQ 1619 3391 1289 3197 \nQ 959 3003 697 2906 \nL 697 3450 \nQ 1169 3672 1522 3987 \nQ 1875 4303 2022 4600 \nL 2384 4600 \nL 2384 0 \nz\n\" id=\"ArialMT-31\" transform=\"scale(0.015625)\"/>\n       </defs>\n       <use xlink:href=\"#ArialMT-31\"/>\n      </g>\n     </g>\n    </g>\n    <g id=\"text_3\">\n     <!-- Predicted label -->\n     <g style=\"fill:#262626;\" transform=\"translate(108.552031 255.522031)scale(0.1 -0.1)\">\n      <defs>\n       <path d=\"M 494 0 \nL 494 4581 \nL 2222 4581 \nQ 2678 4581 2919 4538 \nQ 3256 4481 3484 4323 \nQ 3713 4166 3852 3881 \nQ 3991 3597 3991 3256 \nQ 3991 2672 3619 2267 \nQ 3247 1863 2275 1863 \nL 1100 1863 \nL 1100 0 \nL 494 0 \nz\nM 1100 2403 \nL 2284 2403 \nQ 2872 2403 3119 2622 \nQ 3366 2841 3366 3238 \nQ 3366 3525 3220 3729 \nQ 3075 3934 2838 4000 \nQ 2684 4041 2272 4041 \nL 1100 4041 \nL 1100 2403 \nz\n\" id=\"ArialMT-50\" transform=\"scale(0.015625)\"/>\n       <path d=\"M 416 0 \nL 416 3319 \nL 922 3319 \nL 922 2816 \nQ 1116 3169 1280 3281 \nQ 1444 3394 1641 3394 \nQ 1925 3394 2219 3213 \nL 2025 2691 \nQ 1819 2813 1613 2813 \nQ 1428 2813 1281 2702 \nQ 1134 2591 1072 2394 \nQ 978 2094 978 1738 \nL 978 0 \nL 416 0 \nz\n\" id=\"ArialMT-72\" transform=\"scale(0.015625)\"/>\n       <path d=\"M 2694 1069 \nL 3275 997 \nQ 3138 488 2766 206 \nQ 2394 -75 1816 -75 \nQ 1088 -75 661 373 \nQ 234 822 234 1631 \nQ 234 2469 665 2931 \nQ 1097 3394 1784 3394 \nQ 2450 3394 2872 2941 \nQ 3294 2488 3294 1666 \nQ 3294 1616 3291 1516 \nL 816 1516 \nQ 847 969 1125 678 \nQ 1403 388 1819 388 \nQ 2128 388 2347 550 \nQ 2566 713 2694 1069 \nz\nM 847 1978 \nL 2700 1978 \nQ 2663 2397 2488 2606 \nQ 2219 2931 1791 2931 \nQ 1403 2931 1139 2672 \nQ 875 2413 847 1978 \nz\n\" id=\"ArialMT-65\" transform=\"scale(0.015625)\"/>\n       <path d=\"M 2575 0 \nL 2575 419 \nQ 2259 -75 1647 -75 \nQ 1250 -75 917 144 \nQ 584 363 401 755 \nQ 219 1147 219 1656 \nQ 219 2153 384 2558 \nQ 550 2963 881 3178 \nQ 1213 3394 1622 3394 \nQ 1922 3394 2156 3267 \nQ 2391 3141 2538 2938 \nL 2538 4581 \nL 3097 4581 \nL 3097 0 \nL 2575 0 \nz\nM 797 1656 \nQ 797 1019 1065 703 \nQ 1334 388 1700 388 \nQ 2069 388 2326 689 \nQ 2584 991 2584 1609 \nQ 2584 2291 2321 2609 \nQ 2059 2928 1675 2928 \nQ 1300 2928 1048 2622 \nQ 797 2316 797 1656 \nz\n\" id=\"ArialMT-64\" transform=\"scale(0.015625)\"/>\n       <path d=\"M 425 3934 \nL 425 4581 \nL 988 4581 \nL 988 3934 \nL 425 3934 \nz\nM 425 0 \nL 425 3319 \nL 988 3319 \nL 988 0 \nL 425 0 \nz\n\" id=\"ArialMT-69\" transform=\"scale(0.015625)\"/>\n       <path d=\"M 2588 1216 \nL 3141 1144 \nQ 3050 572 2676 248 \nQ 2303 -75 1759 -75 \nQ 1078 -75 664 370 \nQ 250 816 250 1647 \nQ 250 2184 428 2587 \nQ 606 2991 970 3192 \nQ 1334 3394 1763 3394 \nQ 2303 3394 2647 3120 \nQ 2991 2847 3088 2344 \nL 2541 2259 \nQ 2463 2594 2264 2762 \nQ 2066 2931 1784 2931 \nQ 1359 2931 1093 2626 \nQ 828 2322 828 1663 \nQ 828 994 1084 691 \nQ 1341 388 1753 388 \nQ 2084 388 2306 591 \nQ 2528 794 2588 1216 \nz\n\" id=\"ArialMT-63\" transform=\"scale(0.015625)\"/>\n       <path d=\"M 1650 503 \nL 1731 6 \nQ 1494 -44 1306 -44 \nQ 1000 -44 831 53 \nQ 663 150 594 308 \nQ 525 466 525 972 \nL 525 2881 \nL 113 2881 \nL 113 3319 \nL 525 3319 \nL 525 4141 \nL 1084 4478 \nL 1084 3319 \nL 1650 3319 \nL 1650 2881 \nL 1084 2881 \nL 1084 941 \nQ 1084 700 1114 631 \nQ 1144 563 1211 522 \nQ 1278 481 1403 481 \nQ 1497 481 1650 503 \nz\n\" id=\"ArialMT-74\" transform=\"scale(0.015625)\"/>\n       <path id=\"ArialMT-20\" transform=\"scale(0.015625)\"/>\n       <path d=\"M 409 0 \nL 409 4581 \nL 972 4581 \nL 972 0 \nL 409 0 \nz\n\" id=\"ArialMT-6c\" transform=\"scale(0.015625)\"/>\n       <path d=\"M 2588 409 \nQ 2275 144 1986 34 \nQ 1697 -75 1366 -75 \nQ 819 -75 525 192 \nQ 231 459 231 875 \nQ 231 1119 342 1320 \nQ 453 1522 633 1644 \nQ 813 1766 1038 1828 \nQ 1203 1872 1538 1913 \nQ 2219 1994 2541 2106 \nQ 2544 2222 2544 2253 \nQ 2544 2597 2384 2738 \nQ 2169 2928 1744 2928 \nQ 1347 2928 1158 2789 \nQ 969 2650 878 2297 \nL 328 2372 \nQ 403 2725 575 2942 \nQ 747 3159 1072 3276 \nQ 1397 3394 1825 3394 \nQ 2250 3394 2515 3294 \nQ 2781 3194 2906 3042 \nQ 3031 2891 3081 2659 \nQ 3109 2516 3109 2141 \nL 3109 1391 \nQ 3109 606 3145 398 \nQ 3181 191 3288 0 \nL 2700 0 \nQ 2613 175 2588 409 \nz\nM 2541 1666 \nQ 2234 1541 1622 1453 \nQ 1275 1403 1131 1340 \nQ 988 1278 909 1158 \nQ 831 1038 831 891 \nQ 831 666 1001 516 \nQ 1172 366 1500 366 \nQ 1825 366 2078 508 \nQ 2331 650 2450 897 \nQ 2541 1088 2541 1459 \nL 2541 1666 \nz\n\" id=\"ArialMT-61\" transform=\"scale(0.015625)\"/>\n       <path d=\"M 941 0 \nL 419 0 \nL 419 4581 \nL 981 4581 \nL 981 2947 \nQ 1338 3394 1891 3394 \nQ 2197 3394 2470 3270 \nQ 2744 3147 2920 2923 \nQ 3097 2700 3197 2384 \nQ 3297 2069 3297 1709 \nQ 3297 856 2875 390 \nQ 2453 -75 1863 -75 \nQ 1275 -75 941 416 \nL 941 0 \nz\nM 934 1684 \nQ 934 1088 1097 822 \nQ 1363 388 1816 388 \nQ 2184 388 2453 708 \nQ 2722 1028 2722 1663 \nQ 2722 2313 2464 2622 \nQ 2206 2931 1841 2931 \nQ 1472 2931 1203 2611 \nQ 934 2291 934 1684 \nz\n\" id=\"ArialMT-62\" transform=\"scale(0.015625)\"/>\n      </defs>\n      <use xlink:href=\"#ArialMT-50\"/>\n      <use x=\"66.699219\" xlink:href=\"#ArialMT-72\"/>\n      <use x=\"100\" xlink:href=\"#ArialMT-65\"/>\n      <use x=\"155.615234\" xlink:href=\"#ArialMT-64\"/>\n      <use x=\"211.230469\" xlink:href=\"#ArialMT-69\"/>\n      <use x=\"233.447266\" xlink:href=\"#ArialMT-63\"/>\n      <use x=\"283.447266\" xlink:href=\"#ArialMT-74\"/>\n      <use x=\"311.230469\" xlink:href=\"#ArialMT-65\"/>\n      <use x=\"366.845703\" xlink:href=\"#ArialMT-64\"/>\n      <use x=\"422.460938\" xlink:href=\"#ArialMT-20\"/>\n      <use x=\"450.244141\" xlink:href=\"#ArialMT-6c\"/>\n      <use x=\"472.460938\" xlink:href=\"#ArialMT-61\"/>\n      <use x=\"528.076172\" xlink:href=\"#ArialMT-62\"/>\n      <use x=\"583.691406\" xlink:href=\"#ArialMT-65\"/>\n      <use x=\"639.306641\" xlink:href=\"#ArialMT-6c\"/>\n     </g>\n    </g>\n   </g>\n   <g id=\"matplotlib.axis_2\">\n    <g id=\"ytick_1\">\n     <g id=\"text_4\">\n      <!-- 0 -->\n      <g style=\"fill:#262626;\" transform=\"translate(20.345312 68.717813)scale(0.1 -0.1)\">\n       <use xlink:href=\"#ArialMT-30\"/>\n      </g>\n     </g>\n    </g>\n    <g id=\"ytick_2\">\n     <g id=\"text_5\">\n      <!-- 1 -->\n      <g style=\"fill:#262626;\" transform=\"translate(20.345312 177.437813)scale(0.1 -0.1)\">\n       <use xlink:href=\"#ArialMT-31\"/>\n      </g>\n     </g>\n    </g>\n    <g id=\"text_6\">\n     <!-- True label -->\n     <g style=\"fill:#262626;\" transform=\"translate(14.357812 141.543438)rotate(-90)scale(0.1 -0.1)\">\n      <defs>\n       <path d=\"M 1659 0 \nL 1659 4041 \nL 150 4041 \nL 150 4581 \nL 3781 4581 \nL 3781 4041 \nL 2266 4041 \nL 2266 0 \nL 1659 0 \nz\n\" id=\"ArialMT-54\" transform=\"scale(0.015625)\"/>\n       <path d=\"M 2597 0 \nL 2597 488 \nQ 2209 -75 1544 -75 \nQ 1250 -75 995 37 \nQ 741 150 617 320 \nQ 494 491 444 738 \nQ 409 903 409 1263 \nL 409 3319 \nL 972 3319 \nL 972 1478 \nQ 972 1038 1006 884 \nQ 1059 663 1231 536 \nQ 1403 409 1656 409 \nQ 1909 409 2131 539 \nQ 2353 669 2445 892 \nQ 2538 1116 2538 1541 \nL 2538 3319 \nL 3100 3319 \nL 3100 0 \nL 2597 0 \nz\n\" id=\"ArialMT-75\" transform=\"scale(0.015625)\"/>\n      </defs>\n      <use xlink:href=\"#ArialMT-54\"/>\n      <use x=\"57.333984\" xlink:href=\"#ArialMT-72\"/>\n      <use x=\"90.634766\" xlink:href=\"#ArialMT-75\"/>\n      <use x=\"146.25\" xlink:href=\"#ArialMT-65\"/>\n      <use x=\"201.865234\" xlink:href=\"#ArialMT-20\"/>\n      <use x=\"229.648438\" xlink:href=\"#ArialMT-6c\"/>\n      <use x=\"251.865234\" xlink:href=\"#ArialMT-61\"/>\n      <use x=\"307.480469\" xlink:href=\"#ArialMT-62\"/>\n      <use x=\"363.095703\" xlink:href=\"#ArialMT-65\"/>\n      <use x=\"418.710938\" xlink:href=\"#ArialMT-6c\"/>\n     </g>\n    </g>\n   </g>\n   <g id=\"patch_3\">\n    <path d=\"M 32.90625 228.218906 \nL 32.90625 10.778906 \n\" style=\"fill:none;stroke:#ffffff;stroke-linecap:square;stroke-linejoin:miter;stroke-width:0.8;\"/>\n   </g>\n   <g id=\"patch_4\">\n    <path d=\"M 250.34625 228.218906 \nL 250.34625 10.778906 \n\" style=\"fill:none;stroke:#ffffff;stroke-linecap:square;stroke-linejoin:miter;stroke-width:0.8;\"/>\n   </g>\n   <g id=\"patch_5\">\n    <path d=\"M 32.90625 228.218906 \nL 250.34625 228.218906 \n\" style=\"fill:none;stroke:#ffffff;stroke-linecap:square;stroke-linejoin:miter;stroke-width:0.8;\"/>\n   </g>\n   <g id=\"patch_6\">\n    <path d=\"M 32.90625 10.778906 \nL 250.34625 10.778906 \n\" style=\"fill:none;stroke:#ffffff;stroke-linecap:square;stroke-linejoin:miter;stroke-width:0.8;\"/>\n   </g>\n   <g id=\"text_7\">\n    <!-- 9 -->\n    <g style=\"fill:#def5e5;\" transform=\"translate(84.485781 67.724063)scale(0.1 -0.1)\">\n     <defs>\n      <path d=\"M 350 1059 \nL 891 1109 \nQ 959 728 1153 556 \nQ 1347 384 1650 384 \nQ 1909 384 2104 503 \nQ 2300 622 2425 820 \nQ 2550 1019 2634 1356 \nQ 2719 1694 2719 2044 \nQ 2719 2081 2716 2156 \nQ 2547 1888 2255 1720 \nQ 1963 1553 1622 1553 \nQ 1053 1553 659 1965 \nQ 266 2378 266 3053 \nQ 266 3750 677 4175 \nQ 1088 4600 1706 4600 \nQ 2153 4600 2523 4359 \nQ 2894 4119 3086 3673 \nQ 3278 3228 3278 2384 \nQ 3278 1506 3087 986 \nQ 2897 466 2520 194 \nQ 2144 -78 1638 -78 \nQ 1100 -78 759 220 \nQ 419 519 350 1059 \nz\nM 2653 3081 \nQ 2653 3566 2395 3850 \nQ 2138 4134 1775 4134 \nQ 1400 4134 1122 3828 \nQ 844 3522 844 3034 \nQ 844 2597 1108 2323 \nQ 1372 2050 1759 2050 \nQ 2150 2050 2401 2323 \nQ 2653 2597 2653 3081 \nz\n\" id=\"ArialMT-39\" transform=\"scale(0.015625)\"/>\n     </defs>\n     <use xlink:href=\"#ArialMT-39\"/>\n    </g>\n   </g>\n   <g id=\"text_8\">\n    <!-- 1 -->\n    <g style=\"fill:#0b0405;\" transform=\"translate(193.205781 67.724063)scale(0.1 -0.1)\">\n     <use xlink:href=\"#ArialMT-31\"/>\n    </g>\n   </g>\n   <g id=\"text_9\">\n    <!-- 1 -->\n    <g style=\"fill:#0b0405;\" transform=\"translate(84.485781 176.444063)scale(0.1 -0.1)\">\n     <use xlink:href=\"#ArialMT-31\"/>\n    </g>\n   </g>\n   <g id=\"text_10\">\n    <!-- 4 -->\n    <g style=\"fill:#0b0405;\" transform=\"translate(193.205781 176.444063)scale(0.1 -0.1)\">\n     <defs>\n      <path d=\"M 2069 0 \nL 2069 1097 \nL 81 1097 \nL 81 1613 \nL 2172 4581 \nL 2631 4581 \nL 2631 1613 \nL 3250 1613 \nL 3250 1097 \nL 2631 1097 \nL 2631 0 \nL 2069 0 \nz\nM 2069 1613 \nL 2069 3678 \nL 634 1613 \nL 2069 1613 \nz\n\" id=\"ArialMT-34\" transform=\"scale(0.015625)\"/>\n     </defs>\n     <use xlink:href=\"#ArialMT-34\"/>\n    </g>\n   </g>\n  </g>\n  <g id=\"axes_2\">\n   <g id=\"patch_7\">\n    <path d=\"M 267.08625 228.218906 \nL 277.95825 228.218906 \nL 277.95825 10.778906 \nL 267.08625 10.778906 \nz\n\" style=\"fill:#eaeaf2;\"/>\n   </g>\n   <g id=\"patch_8\">\n    <path clip-path=\"url(#pedc88e3149)\" d=\"M 267.08625 228.218906 \nL 267.08625 227.369531 \nL 267.08625 11.628281 \nL 267.08625 10.778906 \nL 277.95825 10.778906 \nL 277.95825 11.628281 \nL 277.95825 227.369531 \nL 277.95825 228.218906 \nL 277.95825 228.218906 \nz\n\" style=\"fill:#eaeaf2;stroke:#eaeaf2;stroke-linejoin:miter;stroke-width:0.01;\"/>\n   </g>\n   <g id=\"matplotlib.axis_3\"/>\n   <g id=\"matplotlib.axis_4\">\n    <g id=\"ytick_3\">\n     <g id=\"line2d_1\">\n      <defs>\n       <path d=\"M 0 0 \nL 3.5 0 \n\" id=\"m612b8953e6\" style=\"stroke:#262626;stroke-width:0.8;\"/>\n      </defs>\n      <g>\n       <use style=\"fill:#262626;stroke:#262626;stroke-width:0.8;\" x=\"277.95825\" xlink:href=\"#m612b8953e6\" y=\"228.218906\"/>\n      </g>\n     </g>\n     <g id=\"text_11\">\n      <!-- 1 -->\n      <g style=\"fill:#262626;\" transform=\"translate(284.95825 231.797812)scale(0.1 -0.1)\">\n       <use xlink:href=\"#ArialMT-31\"/>\n      </g>\n     </g>\n    </g>\n    <g id=\"ytick_4\">\n     <g id=\"line2d_2\">\n      <g>\n       <use style=\"fill:#262626;stroke:#262626;stroke-width:0.8;\" x=\"277.95825\" xlink:href=\"#m612b8953e6\" y=\"201.038906\"/>\n      </g>\n     </g>\n     <g id=\"text_12\">\n      <!-- 2 -->\n      <g style=\"fill:#262626;\" transform=\"translate(284.95825 204.617812)scale(0.1 -0.1)\">\n       <defs>\n        <path d=\"M 3222 541 \nL 3222 0 \nL 194 0 \nQ 188 203 259 391 \nQ 375 700 629 1000 \nQ 884 1300 1366 1694 \nQ 2113 2306 2375 2664 \nQ 2638 3022 2638 3341 \nQ 2638 3675 2398 3904 \nQ 2159 4134 1775 4134 \nQ 1369 4134 1125 3890 \nQ 881 3647 878 3216 \nL 300 3275 \nQ 359 3922 746 4261 \nQ 1134 4600 1788 4600 \nQ 2447 4600 2831 4234 \nQ 3216 3869 3216 3328 \nQ 3216 3053 3103 2787 \nQ 2991 2522 2730 2228 \nQ 2469 1934 1863 1422 \nQ 1356 997 1212 845 \nQ 1069 694 975 541 \nL 3222 541 \nz\n\" id=\"ArialMT-32\" transform=\"scale(0.015625)\"/>\n       </defs>\n       <use xlink:href=\"#ArialMT-32\"/>\n      </g>\n     </g>\n    </g>\n    <g id=\"ytick_5\">\n     <g id=\"line2d_3\">\n      <g>\n       <use style=\"fill:#262626;stroke:#262626;stroke-width:0.8;\" x=\"277.95825\" xlink:href=\"#m612b8953e6\" y=\"173.858906\"/>\n      </g>\n     </g>\n     <g id=\"text_13\">\n      <!-- 3 -->\n      <g style=\"fill:#262626;\" transform=\"translate(284.95825 177.437812)scale(0.1 -0.1)\">\n       <defs>\n        <path d=\"M 269 1209 \nL 831 1284 \nQ 928 806 1161 595 \nQ 1394 384 1728 384 \nQ 2125 384 2398 659 \nQ 2672 934 2672 1341 \nQ 2672 1728 2419 1979 \nQ 2166 2231 1775 2231 \nQ 1616 2231 1378 2169 \nL 1441 2663 \nQ 1497 2656 1531 2656 \nQ 1891 2656 2178 2843 \nQ 2466 3031 2466 3422 \nQ 2466 3731 2256 3934 \nQ 2047 4138 1716 4138 \nQ 1388 4138 1169 3931 \nQ 950 3725 888 3313 \nL 325 3413 \nQ 428 3978 793 4289 \nQ 1159 4600 1703 4600 \nQ 2078 4600 2393 4439 \nQ 2709 4278 2876 4000 \nQ 3044 3722 3044 3409 \nQ 3044 3113 2884 2869 \nQ 2725 2625 2413 2481 \nQ 2819 2388 3044 2092 \nQ 3269 1797 3269 1353 \nQ 3269 753 2831 336 \nQ 2394 -81 1725 -81 \nQ 1122 -81 723 278 \nQ 325 638 269 1209 \nz\n\" id=\"ArialMT-33\" transform=\"scale(0.015625)\"/>\n       </defs>\n       <use xlink:href=\"#ArialMT-33\"/>\n      </g>\n     </g>\n    </g>\n    <g id=\"ytick_6\">\n     <g id=\"line2d_4\">\n      <g>\n       <use style=\"fill:#262626;stroke:#262626;stroke-width:0.8;\" x=\"277.95825\" xlink:href=\"#m612b8953e6\" y=\"146.678906\"/>\n      </g>\n     </g>\n     <g id=\"text_14\">\n      <!-- 4 -->\n      <g style=\"fill:#262626;\" transform=\"translate(284.95825 150.257812)scale(0.1 -0.1)\">\n       <use xlink:href=\"#ArialMT-34\"/>\n      </g>\n     </g>\n    </g>\n    <g id=\"ytick_7\">\n     <g id=\"line2d_5\">\n      <g>\n       <use style=\"fill:#262626;stroke:#262626;stroke-width:0.8;\" x=\"277.95825\" xlink:href=\"#m612b8953e6\" y=\"119.498906\"/>\n      </g>\n     </g>\n     <g id=\"text_15\">\n      <!-- 5 -->\n      <g style=\"fill:#262626;\" transform=\"translate(284.95825 123.077812)scale(0.1 -0.1)\">\n       <defs>\n        <path d=\"M 266 1200 \nL 856 1250 \nQ 922 819 1161 601 \nQ 1400 384 1738 384 \nQ 2144 384 2425 690 \nQ 2706 997 2706 1503 \nQ 2706 1984 2436 2262 \nQ 2166 2541 1728 2541 \nQ 1456 2541 1237 2417 \nQ 1019 2294 894 2097 \nL 366 2166 \nL 809 4519 \nL 3088 4519 \nL 3088 3981 \nL 1259 3981 \nL 1013 2750 \nQ 1425 3038 1878 3038 \nQ 2478 3038 2890 2622 \nQ 3303 2206 3303 1553 \nQ 3303 931 2941 478 \nQ 2500 -78 1738 -78 \nQ 1113 -78 717 272 \nQ 322 622 266 1200 \nz\n\" id=\"ArialMT-35\" transform=\"scale(0.015625)\"/>\n       </defs>\n       <use xlink:href=\"#ArialMT-35\"/>\n      </g>\n     </g>\n    </g>\n    <g id=\"ytick_8\">\n     <g id=\"line2d_6\">\n      <g>\n       <use style=\"fill:#262626;stroke:#262626;stroke-width:0.8;\" x=\"277.95825\" xlink:href=\"#m612b8953e6\" y=\"92.318906\"/>\n      </g>\n     </g>\n     <g id=\"text_16\">\n      <!-- 6 -->\n      <g style=\"fill:#262626;\" transform=\"translate(284.95825 95.897812)scale(0.1 -0.1)\">\n       <defs>\n        <path d=\"M 3184 3459 \nL 2625 3416 \nQ 2550 3747 2413 3897 \nQ 2184 4138 1850 4138 \nQ 1581 4138 1378 3988 \nQ 1113 3794 959 3422 \nQ 806 3050 800 2363 \nQ 1003 2672 1297 2822 \nQ 1591 2972 1913 2972 \nQ 2475 2972 2870 2558 \nQ 3266 2144 3266 1488 \nQ 3266 1056 3080 686 \nQ 2894 316 2569 119 \nQ 2244 -78 1831 -78 \nQ 1128 -78 684 439 \nQ 241 956 241 2144 \nQ 241 3472 731 4075 \nQ 1159 4600 1884 4600 \nQ 2425 4600 2770 4297 \nQ 3116 3994 3184 3459 \nz\nM 888 1484 \nQ 888 1194 1011 928 \nQ 1134 663 1356 523 \nQ 1578 384 1822 384 \nQ 2178 384 2434 671 \nQ 2691 959 2691 1453 \nQ 2691 1928 2437 2201 \nQ 2184 2475 1800 2475 \nQ 1419 2475 1153 2201 \nQ 888 1928 888 1484 \nz\n\" id=\"ArialMT-36\" transform=\"scale(0.015625)\"/>\n       </defs>\n       <use xlink:href=\"#ArialMT-36\"/>\n      </g>\n     </g>\n    </g>\n    <g id=\"ytick_9\">\n     <g id=\"line2d_7\">\n      <g>\n       <use style=\"fill:#262626;stroke:#262626;stroke-width:0.8;\" x=\"277.95825\" xlink:href=\"#m612b8953e6\" y=\"65.138906\"/>\n      </g>\n     </g>\n     <g id=\"text_17\">\n      <!-- 7 -->\n      <g style=\"fill:#262626;\" transform=\"translate(284.95825 68.717812)scale(0.1 -0.1)\">\n       <defs>\n        <path d=\"M 303 3981 \nL 303 4522 \nL 3269 4522 \nL 3269 4084 \nQ 2831 3619 2401 2847 \nQ 1972 2075 1738 1259 \nQ 1569 684 1522 0 \nL 944 0 \nQ 953 541 1156 1306 \nQ 1359 2072 1739 2783 \nQ 2119 3494 2547 3981 \nL 303 3981 \nz\n\" id=\"ArialMT-37\" transform=\"scale(0.015625)\"/>\n       </defs>\n       <use xlink:href=\"#ArialMT-37\"/>\n      </g>\n     </g>\n    </g>\n    <g id=\"ytick_10\">\n     <g id=\"line2d_8\">\n      <g>\n       <use style=\"fill:#262626;stroke:#262626;stroke-width:0.8;\" x=\"277.95825\" xlink:href=\"#m612b8953e6\" y=\"37.958906\"/>\n      </g>\n     </g>\n     <g id=\"text_18\">\n      <!-- 8 -->\n      <g style=\"fill:#262626;\" transform=\"translate(284.95825 41.537812)scale(0.1 -0.1)\">\n       <defs>\n        <path d=\"M 1131 2484 \nQ 781 2613 612 2850 \nQ 444 3088 444 3419 \nQ 444 3919 803 4259 \nQ 1163 4600 1759 4600 \nQ 2359 4600 2725 4251 \nQ 3091 3903 3091 3403 \nQ 3091 3084 2923 2848 \nQ 2756 2613 2416 2484 \nQ 2838 2347 3058 2040 \nQ 3278 1734 3278 1309 \nQ 3278 722 2862 322 \nQ 2447 -78 1769 -78 \nQ 1091 -78 675 323 \nQ 259 725 259 1325 \nQ 259 1772 486 2073 \nQ 713 2375 1131 2484 \nz\nM 1019 3438 \nQ 1019 3113 1228 2906 \nQ 1438 2700 1772 2700 \nQ 2097 2700 2305 2904 \nQ 2513 3109 2513 3406 \nQ 2513 3716 2298 3927 \nQ 2084 4138 1766 4138 \nQ 1444 4138 1231 3931 \nQ 1019 3725 1019 3438 \nz\nM 838 1322 \nQ 838 1081 952 856 \nQ 1066 631 1291 507 \nQ 1516 384 1775 384 \nQ 2178 384 2440 643 \nQ 2703 903 2703 1303 \nQ 2703 1709 2433 1975 \nQ 2163 2241 1756 2241 \nQ 1359 2241 1098 1978 \nQ 838 1716 838 1322 \nz\n\" id=\"ArialMT-38\" transform=\"scale(0.015625)\"/>\n       </defs>\n       <use xlink:href=\"#ArialMT-38\"/>\n      </g>\n     </g>\n    </g>\n    <g id=\"ytick_11\">\n     <g id=\"line2d_9\">\n      <g>\n       <use style=\"fill:#262626;stroke:#262626;stroke-width:0.8;\" x=\"277.95825\" xlink:href=\"#m612b8953e6\" y=\"10.778906\"/>\n      </g>\n     </g>\n     <g id=\"text_19\">\n      <!-- 9 -->\n      <g style=\"fill:#262626;\" transform=\"translate(284.95825 14.357812)scale(0.1 -0.1)\">\n       <use xlink:href=\"#ArialMT-39\"/>\n      </g>\n     </g>\n    </g>\n   </g>\n   <image height=\"218\" id=\"imageced4ef3c5b\" transform=\"scale(1 -1)translate(0 -218)\" width=\"11\" x=\"267\" xlink:href=\"data:image/png;base64,\niVBORw0KGgoAAAANSUhEUgAAAAsAAADaCAYAAABwzrisAAABYElEQVR4nNXayw3DMAyDYRvI/iP21hF6aWK5K/g7EFBzJgTqp6zm0fn6vPc4vK7adapl8bELrTxA/NRK2aAGxXPOxlMPVB6pBFeuwQ1xmw2jAeIcjTsWygrSELHYuCtV2Txbg+fX9S2KGyojDakcpAFiGI1kg2Sj9jwX31a5hRgW0rhWLG4IEMU5G7AJkg1Sgk0ahFUXRUdi2IxKA9ZXF84yG3Bjzp4BnVWOeUaxNJjjbJVToQTFcuOa49wFXRcaJI6hyw1/DN3ssmSazDOJW3ieTdDJbU+TuG344VHzPxOUeZ5yUoINkufYrpv2O0ieCV2MBjzSq2eojA2m0A35kDHlTSAuxh6VhcaQjy9kY+doyJeaLp6Fs9kQGvjcLZ6Dg5SaDeMs7/mpsoljpxs9txgkohFssAfnvVOrwDznTgrFbaHkaKRs1D/SsE9+LU53cJ5zcTc5sLFBoj/VWGWg8QPYJMmIBPclqwAAAABJRU5ErkJggg==\" y=\"-10\"/>\n   <g id=\"LineCollection_1\"/>\n   <g id=\"patch_9\">\n    <path d=\"M 267.08625 228.218906 \nL 267.08625 227.369531 \nL 267.08625 11.628281 \nL 267.08625 10.778906 \nL 277.95825 10.778906 \nL 277.95825 11.628281 \nL 277.95825 227.369531 \nL 277.95825 228.218906 \nz\n\" style=\"fill:none;stroke:#ffffff;stroke-linecap:square;stroke-linejoin:miter;stroke-width:0.8;\"/>\n   </g>\n  </g>\n </g>\n <defs>\n  <clipPath id=\"pbb04cc71d6\">\n   <rect height=\"217.44\" width=\"217.44\" x=\"32.90625\" y=\"10.778906\"/>\n  </clipPath>\n  <clipPath id=\"pedc88e3149\">\n   <rect height=\"217.44\" width=\"10.872\" x=\"267.08625\" y=\"10.778906\"/>\n  </clipPath>\n </defs>\n</svg>\n",
      "image/png": "[encoded data removed]"
     },
     "metadata": {}
    }
   ],
   "source": [
    "pipeline = make_pipeline(StandardScaler(), RandomForestClassifier())\n",
    "pipeline.fit(X_train, y_train)\n",
    "prediction = pipeline.predict(X_test)\n",
    "score = cross_val_score(pipeline, X_cv, y, cv=10)\n",
    "\n",
    "print(f\"Accuracy Score : {round(accuracy_score(y_test, prediction) * 100, 2)}%\")\n",
    "print(\"%0.2f accuracy with a standard deviation of %0.2f\" % (score.mean(), score.std()))\n",
    "print(classification_report(y_test, prediction))\n",
    "\n",
    "plot_confusion_matrix(pipeline, X_test, y_test, cmap=cmap)\n",
    "plt.grid(False)\n",
    "plt.show()"
   ]
  },
  {
   "cell_type": "code",
   "execution_count": 339,
   "metadata": {},
   "outputs": [
    {
     "output_type": "stream",
     "name": "stdout",
     "text": [
      "Accuracy Score : 100.0%\n              precision    recall  f1-score   support\n\n           0       1.00      1.00      1.00         8\n           1       1.00      1.00      1.00         7\n\n    accuracy                           1.00        15\n   macro avg       1.00      1.00      1.00        15\nweighted avg       1.00      1.00      1.00        15\n\n"
     ]
    },
    {
     "output_type": "display_data",
     "data": {
      "text/plain": "<Figure size 432x288 with 2 Axes>",
      "image/svg+xml": "<?xml version=\"1.0\" encoding=\"utf-8\" standalone=\"no\"?>\n<!DOCTYPE svg PUBLIC \"-//W3C//DTD SVG 1.1//EN\"\n  \"http://www.w3.org/Graphics/SVG/1.1/DTD/svg11.dtd\">\n<svg height=\"264.709531pt\" version=\"1.1\" viewBox=\"0 0 297.719187 264.709531\" width=\"297.719187pt\" xmlns=\"http://www.w3.org/2000/svg\" xmlns:xlink=\"http://www.w3.org/1999/xlink\">\n <metadata>\n  <rdf:RDF xmlns:cc=\"http://creativecommons.org/ns#\" xmlns:dc=\"http://purl.org/dc/elements/1.1/\" xmlns:rdf=\"http://www.w3.org/1999/02/22-rdf-syntax-ns#\">\n   <cc:Work>\n    <dc:type rdf:resource=\"http://purl.org/dc/dcmitype/StillImage\"/>\n    <dc:date>2021-06-03T11:15:56.770420</dc:date>\n    <dc:format>image/svg+xml</dc:format>\n    <dc:creator>\n     <cc:Agent>\n      <dc:title>Matplotlib v3.4.2, https://matplotlib.org/</dc:title>\n     </cc:Agent>\n    </dc:creator>\n   </cc:Work>\n  </rdf:RDF>\n </metadata>\n <defs>\n  <style type=\"text/css\">*{stroke-linecap:butt;stroke-linejoin:round;}</style>\n </defs>\n <g id=\"figure_1\">\n  <g id=\"patch_1\">\n   <path d=\"M 0 264.709531 \nL 297.719187 264.709531 \nL 297.719187 0 \nL 0 0 \nz\n\" style=\"fill:#ffffff;\"/>\n  </g>\n  <g id=\"axes_1\">\n   <g id=\"patch_2\">\n    <path d=\"M 32.90625 228.218906 \nL 250.34625 228.218906 \nL 250.34625 10.778906 \nL 32.90625 10.778906 \nz\n\" style=\"fill:#eaeaf2;\"/>\n   </g>\n   <g clip-path=\"url(#p19b5fb2543)\">\n    <image height=\"218\" id=\"image30babfc8f0\" transform=\"scale(1 -1)translate(0 -218)\" width=\"218\" x=\"32.90625\" xlink:href=\"data:image/png;base64,\niVBORw0KGgoAAAANSUhEUgAAANoAAADaCAYAAADAHVzbAAACmElEQVR4nO3VsQ3CQAAEQQwiog+qsWjeOSQ0gERu1/DJvhAzFVyyuuX5fe8nfsp6f8yewKDz7AHwD4QGAaFBQGgQEBoEhAYBoUFAaBAQGgSEBgGhQUBoEBAaBIQGAaFBQGgQEBoEhAYBoUFAaBAQGgSEBgGhQUBoEBAaBIQGAaFBQGgQEBoEhAYBoUFAaBAQGgSEBgGhQUBoEBAaBIQGAaFBQGgQEBoEhAYBoUFAaBAQGgSEBgGhQUBoEBAaBIQGAaFBQGgQEBoEhAYBoUFAaBAQGgSEBgGhQUBoEBAaBIQGAaFBQGgQEBoEhAYBoUFAaBAQGgSEBgGhQUBoEBAaBIQGAaFBQGgQEBoEhAYBoUFAaBAQGgSEBgGhQUBoEBAaBIQGAaFBQGgQEBoEhAYBoUFAaBAQGgSEBgGhQUBoEBAaBIQGAaFBQGgQEBoEhAYBoUFAaBAQGgSEBgGhQUBoEFhul+s+ewRjts9r9gQGeTQICA0CQoOA0CAgNAgIDQJCg4DQICA0CAgNAkKDgNAgIDQICA0CQoOA0CAgNAgIDQJCg4DQICA0CAgNAkKDgNAgIDQICA0CQoOA0CAgNAgIDQJCg4DQICA0CAgNAkKDgNAgIDQICA0CQoOA0CAgNAgIDQJCg4DQICA0CAgNAkKDgNAgIDQICA0CQoOA0CAgNAgIDQJCg4DQICA0CAgNAkKDgNAgIDQICA0CQoOA0CAgNAgIDQJCg4DQICA0CAgNAkKDgNAgIDQICA0CQoOA0CAgNAgIDQJCg4DQICA0CAgNAkKDgNAgIDQICA0CQoOA0CAgNAgIDQJCg4DQICA0CAgNAkKDgNAgIDQICA0CQoOA0CAgNAgIDQJCg4DQICA0CAgNAkKDgNAgcAA8MQndEecwhwAAAABJRU5ErkJggg==\" y=\"-10.218906\"/>\n   </g>\n   <g id=\"matplotlib.axis_1\">\n    <g id=\"xtick_1\">\n     <g id=\"text_1\">\n      <!-- 0 -->\n      <g style=\"fill:#262626;\" transform=\"translate(84.485781 242.376719)scale(0.1 -0.1)\">\n       <defs>\n        <path d=\"M 266 2259 \nQ 266 3072 433 3567 \nQ 600 4063 929 4331 \nQ 1259 4600 1759 4600 \nQ 2128 4600 2406 4451 \nQ 2684 4303 2865 4023 \nQ 3047 3744 3150 3342 \nQ 3253 2941 3253 2259 \nQ 3253 1453 3087 958 \nQ 2922 463 2592 192 \nQ 2263 -78 1759 -78 \nQ 1097 -78 719 397 \nQ 266 969 266 2259 \nz\nM 844 2259 \nQ 844 1131 1108 757 \nQ 1372 384 1759 384 \nQ 2147 384 2411 759 \nQ 2675 1134 2675 2259 \nQ 2675 3391 2411 3762 \nQ 2147 4134 1753 4134 \nQ 1366 4134 1134 3806 \nQ 844 3388 844 2259 \nz\n\" id=\"ArialMT-30\" transform=\"scale(0.015625)\"/>\n       </defs>\n       <use xlink:href=\"#ArialMT-30\"/>\n      </g>\n     </g>\n    </g>\n    <g id=\"xtick_2\">\n     <g id=\"text_2\">\n      <!-- 1 -->\n      <g style=\"fill:#262626;\" transform=\"translate(193.205781 242.376719)scale(0.1 -0.1)\">\n       <defs>\n        <path d=\"M 2384 0 \nL 1822 0 \nL 1822 3584 \nQ 1619 3391 1289 3197 \nQ 959 3003 697 2906 \nL 697 3450 \nQ 1169 3672 1522 3987 \nQ 1875 4303 2022 4600 \nL 2384 4600 \nL 2384 0 \nz\n\" id=\"ArialMT-31\" transform=\"scale(0.015625)\"/>\n       </defs>\n       <use xlink:href=\"#ArialMT-31\"/>\n      </g>\n     </g>\n    </g>\n    <g id=\"text_3\">\n     <!-- Predicted label -->\n     <g style=\"fill:#262626;\" transform=\"translate(108.552031 255.522031)scale(0.1 -0.1)\">\n      <defs>\n       <path d=\"M 494 0 \nL 494 4581 \nL 2222 4581 \nQ 2678 4581 2919 4538 \nQ 3256 4481 3484 4323 \nQ 3713 4166 3852 3881 \nQ 3991 3597 3991 3256 \nQ 3991 2672 3619 2267 \nQ 3247 1863 2275 1863 \nL 1100 1863 \nL 1100 0 \nL 494 0 \nz\nM 1100 2403 \nL 2284 2403 \nQ 2872 2403 3119 2622 \nQ 3366 2841 3366 3238 \nQ 3366 3525 3220 3729 \nQ 3075 3934 2838 4000 \nQ 2684 4041 2272 4041 \nL 1100 4041 \nL 1100 2403 \nz\n\" id=\"ArialMT-50\" transform=\"scale(0.015625)\"/>\n       <path d=\"M 416 0 \nL 416 3319 \nL 922 3319 \nL 922 2816 \nQ 1116 3169 1280 3281 \nQ 1444 3394 1641 3394 \nQ 1925 3394 2219 3213 \nL 2025 2691 \nQ 1819 2813 1613 2813 \nQ 1428 2813 1281 2702 \nQ 1134 2591 1072 2394 \nQ 978 2094 978 1738 \nL 978 0 \nL 416 0 \nz\n\" id=\"ArialMT-72\" transform=\"scale(0.015625)\"/>\n       <path d=\"M 2694 1069 \nL 3275 997 \nQ 3138 488 2766 206 \nQ 2394 -75 1816 -75 \nQ 1088 -75 661 373 \nQ 234 822 234 1631 \nQ 234 2469 665 2931 \nQ 1097 3394 1784 3394 \nQ 2450 3394 2872 2941 \nQ 3294 2488 3294 1666 \nQ 3294 1616 3291 1516 \nL 816 1516 \nQ 847 969 1125 678 \nQ 1403 388 1819 388 \nQ 2128 388 2347 550 \nQ 2566 713 2694 1069 \nz\nM 847 1978 \nL 2700 1978 \nQ 2663 2397 2488 2606 \nQ 2219 2931 1791 2931 \nQ 1403 2931 1139 2672 \nQ 875 2413 847 1978 \nz\n\" id=\"ArialMT-65\" transform=\"scale(0.015625)\"/>\n       <path d=\"M 2575 0 \nL 2575 419 \nQ 2259 -75 1647 -75 \nQ 1250 -75 917 144 \nQ 584 363 401 755 \nQ 219 1147 219 1656 \nQ 219 2153 384 2558 \nQ 550 2963 881 3178 \nQ 1213 3394 1622 3394 \nQ 1922 3394 2156 3267 \nQ 2391 3141 2538 2938 \nL 2538 4581 \nL 3097 4581 \nL 3097 0 \nL 2575 0 \nz\nM 797 1656 \nQ 797 1019 1065 703 \nQ 1334 388 1700 388 \nQ 2069 388 2326 689 \nQ 2584 991 2584 1609 \nQ 2584 2291 2321 2609 \nQ 2059 2928 1675 2928 \nQ 1300 2928 1048 2622 \nQ 797 2316 797 1656 \nz\n\" id=\"ArialMT-64\" transform=\"scale(0.015625)\"/>\n       <path d=\"M 425 3934 \nL 425 4581 \nL 988 4581 \nL 988 3934 \nL 425 3934 \nz\nM 425 0 \nL 425 3319 \nL 988 3319 \nL 988 0 \nL 425 0 \nz\n\" id=\"ArialMT-69\" transform=\"scale(0.015625)\"/>\n       <path d=\"M 2588 1216 \nL 3141 1144 \nQ 3050 572 2676 248 \nQ 2303 -75 1759 -75 \nQ 1078 -75 664 370 \nQ 250 816 250 1647 \nQ 250 2184 428 2587 \nQ 606 2991 970 3192 \nQ 1334 3394 1763 3394 \nQ 2303 3394 2647 3120 \nQ 2991 2847 3088 2344 \nL 2541 2259 \nQ 2463 2594 2264 2762 \nQ 2066 2931 1784 2931 \nQ 1359 2931 1093 2626 \nQ 828 2322 828 1663 \nQ 828 994 1084 691 \nQ 1341 388 1753 388 \nQ 2084 388 2306 591 \nQ 2528 794 2588 1216 \nz\n\" id=\"ArialMT-63\" transform=\"scale(0.015625)\"/>\n       <path d=\"M 1650 503 \nL 1731 6 \nQ 1494 -44 1306 -44 \nQ 1000 -44 831 53 \nQ 663 150 594 308 \nQ 525 466 525 972 \nL 525 2881 \nL 113 2881 \nL 113 3319 \nL 525 3319 \nL 525 4141 \nL 1084 4478 \nL 1084 3319 \nL 1650 3319 \nL 1650 2881 \nL 1084 2881 \nL 1084 941 \nQ 1084 700 1114 631 \nQ 1144 563 1211 522 \nQ 1278 481 1403 481 \nQ 1497 481 1650 503 \nz\n\" id=\"ArialMT-74\" transform=\"scale(0.015625)\"/>\n       <path id=\"ArialMT-20\" transform=\"scale(0.015625)\"/>\n       <path d=\"M 409 0 \nL 409 4581 \nL 972 4581 \nL 972 0 \nL 409 0 \nz\n\" id=\"ArialMT-6c\" transform=\"scale(0.015625)\"/>\n       <path d=\"M 2588 409 \nQ 2275 144 1986 34 \nQ 1697 -75 1366 -75 \nQ 819 -75 525 192 \nQ 231 459 231 875 \nQ 231 1119 342 1320 \nQ 453 1522 633 1644 \nQ 813 1766 1038 1828 \nQ 1203 1872 1538 1913 \nQ 2219 1994 2541 2106 \nQ 2544 2222 2544 2253 \nQ 2544 2597 2384 2738 \nQ 2169 2928 1744 2928 \nQ 1347 2928 1158 2789 \nQ 969 2650 878 2297 \nL 328 2372 \nQ 403 2725 575 2942 \nQ 747 3159 1072 3276 \nQ 1397 3394 1825 3394 \nQ 2250 3394 2515 3294 \nQ 2781 3194 2906 3042 \nQ 3031 2891 3081 2659 \nQ 3109 2516 3109 2141 \nL 3109 1391 \nQ 3109 606 3145 398 \nQ 3181 191 3288 0 \nL 2700 0 \nQ 2613 175 2588 409 \nz\nM 2541 1666 \nQ 2234 1541 1622 1453 \nQ 1275 1403 1131 1340 \nQ 988 1278 909 1158 \nQ 831 1038 831 891 \nQ 831 666 1001 516 \nQ 1172 366 1500 366 \nQ 1825 366 2078 508 \nQ 2331 650 2450 897 \nQ 2541 1088 2541 1459 \nL 2541 1666 \nz\n\" id=\"ArialMT-61\" transform=\"scale(0.015625)\"/>\n       <path d=\"M 941 0 \nL 419 0 \nL 419 4581 \nL 981 4581 \nL 981 2947 \nQ 1338 3394 1891 3394 \nQ 2197 3394 2470 3270 \nQ 2744 3147 2920 2923 \nQ 3097 2700 3197 2384 \nQ 3297 2069 3297 1709 \nQ 3297 856 2875 390 \nQ 2453 -75 1863 -75 \nQ 1275 -75 941 416 \nL 941 0 \nz\nM 934 1684 \nQ 934 1088 1097 822 \nQ 1363 388 1816 388 \nQ 2184 388 2453 708 \nQ 2722 1028 2722 1663 \nQ 2722 2313 2464 2622 \nQ 2206 2931 1841 2931 \nQ 1472 2931 1203 2611 \nQ 934 2291 934 1684 \nz\n\" id=\"ArialMT-62\" transform=\"scale(0.015625)\"/>\n      </defs>\n      <use xlink:href=\"#ArialMT-50\"/>\n      <use x=\"66.699219\" xlink:href=\"#ArialMT-72\"/>\n      <use x=\"100\" xlink:href=\"#ArialMT-65\"/>\n      <use x=\"155.615234\" xlink:href=\"#ArialMT-64\"/>\n      <use x=\"211.230469\" xlink:href=\"#ArialMT-69\"/>\n      <use x=\"233.447266\" xlink:href=\"#ArialMT-63\"/>\n      <use x=\"283.447266\" xlink:href=\"#ArialMT-74\"/>\n      <use x=\"311.230469\" xlink:href=\"#ArialMT-65\"/>\n      <use x=\"366.845703\" xlink:href=\"#ArialMT-64\"/>\n      <use x=\"422.460938\" xlink:href=\"#ArialMT-20\"/>\n      <use x=\"450.244141\" xlink:href=\"#ArialMT-6c\"/>\n      <use x=\"472.460938\" xlink:href=\"#ArialMT-61\"/>\n      <use x=\"528.076172\" xlink:href=\"#ArialMT-62\"/>\n      <use x=\"583.691406\" xlink:href=\"#ArialMT-65\"/>\n      <use x=\"639.306641\" xlink:href=\"#ArialMT-6c\"/>\n     </g>\n    </g>\n   </g>\n   <g id=\"matplotlib.axis_2\">\n    <g id=\"ytick_1\">\n     <g id=\"text_4\">\n      <!-- 0 -->\n      <g style=\"fill:#262626;\" transform=\"translate(20.345312 68.717813)scale(0.1 -0.1)\">\n       <use xlink:href=\"#ArialMT-30\"/>\n      </g>\n     </g>\n    </g>\n    <g id=\"ytick_2\">\n     <g id=\"text_5\">\n      <!-- 1 -->\n      <g style=\"fill:#262626;\" transform=\"translate(20.345312 177.437813)scale(0.1 -0.1)\">\n       <use xlink:href=\"#ArialMT-31\"/>\n      </g>\n     </g>\n    </g>\n    <g id=\"text_6\">\n     <!-- True label -->\n     <g style=\"fill:#262626;\" transform=\"translate(14.357812 141.543438)rotate(-90)scale(0.1 -0.1)\">\n      <defs>\n       <path d=\"M 1659 0 \nL 1659 4041 \nL 150 4041 \nL 150 4581 \nL 3781 4581 \nL 3781 4041 \nL 2266 4041 \nL 2266 0 \nL 1659 0 \nz\n\" id=\"ArialMT-54\" transform=\"scale(0.015625)\"/>\n       <path d=\"M 2597 0 \nL 2597 488 \nQ 2209 -75 1544 -75 \nQ 1250 -75 995 37 \nQ 741 150 617 320 \nQ 494 491 444 738 \nQ 409 903 409 1263 \nL 409 3319 \nL 972 3319 \nL 972 1478 \nQ 972 1038 1006 884 \nQ 1059 663 1231 536 \nQ 1403 409 1656 409 \nQ 1909 409 2131 539 \nQ 2353 669 2445 892 \nQ 2538 1116 2538 1541 \nL 2538 3319 \nL 3100 3319 \nL 3100 0 \nL 2597 0 \nz\n\" id=\"ArialMT-75\" transform=\"scale(0.015625)\"/>\n      </defs>\n      <use xlink:href=\"#ArialMT-54\"/>\n      <use x=\"57.333984\" xlink:href=\"#ArialMT-72\"/>\n      <use x=\"90.634766\" xlink:href=\"#ArialMT-75\"/>\n      <use x=\"146.25\" xlink:href=\"#ArialMT-65\"/>\n      <use x=\"201.865234\" xlink:href=\"#ArialMT-20\"/>\n      <use x=\"229.648438\" xlink:href=\"#ArialMT-6c\"/>\n      <use x=\"251.865234\" xlink:href=\"#ArialMT-61\"/>\n      <use x=\"307.480469\" xlink:href=\"#ArialMT-62\"/>\n      <use x=\"363.095703\" xlink:href=\"#ArialMT-65\"/>\n      <use x=\"418.710938\" xlink:href=\"#ArialMT-6c\"/>\n     </g>\n    </g>\n   </g>\n   <g id=\"patch_3\">\n    <path d=\"M 32.90625 228.218906 \nL 32.90625 10.778906 \n\" style=\"fill:none;stroke:#ffffff;stroke-linecap:square;stroke-linejoin:miter;stroke-width:0.8;\"/>\n   </g>\n   <g id=\"patch_4\">\n    <path d=\"M 250.34625 228.218906 \nL 250.34625 10.778906 \n\" style=\"fill:none;stroke:#ffffff;stroke-linecap:square;stroke-linejoin:miter;stroke-width:0.8;\"/>\n   </g>\n   <g id=\"patch_5\">\n    <path d=\"M 32.90625 228.218906 \nL 250.34625 228.218906 \n\" style=\"fill:none;stroke:#ffffff;stroke-linecap:square;stroke-linejoin:miter;stroke-width:0.8;\"/>\n   </g>\n   <g id=\"patch_6\">\n    <path d=\"M 32.90625 10.778906 \nL 250.34625 10.778906 \n\" style=\"fill:none;stroke:#ffffff;stroke-linecap:square;stroke-linejoin:miter;stroke-width:0.8;\"/>\n   </g>\n   <g id=\"text_7\">\n    <!-- 8 -->\n    <g style=\"fill:#def5e5;\" transform=\"translate(84.485781 67.724063)scale(0.1 -0.1)\">\n     <defs>\n      <path d=\"M 1131 2484 \nQ 781 2613 612 2850 \nQ 444 3088 444 3419 \nQ 444 3919 803 4259 \nQ 1163 4600 1759 4600 \nQ 2359 4600 2725 4251 \nQ 3091 3903 3091 3403 \nQ 3091 3084 2923 2848 \nQ 2756 2613 2416 2484 \nQ 2838 2347 3058 2040 \nQ 3278 1734 3278 1309 \nQ 3278 722 2862 322 \nQ 2447 -78 1769 -78 \nQ 1091 -78 675 323 \nQ 259 725 259 1325 \nQ 259 1772 486 2073 \nQ 713 2375 1131 2484 \nz\nM 1019 3438 \nQ 1019 3113 1228 2906 \nQ 1438 2700 1772 2700 \nQ 2097 2700 2305 2904 \nQ 2513 3109 2513 3406 \nQ 2513 3716 2298 3927 \nQ 2084 4138 1766 4138 \nQ 1444 4138 1231 3931 \nQ 1019 3725 1019 3438 \nz\nM 838 1322 \nQ 838 1081 952 856 \nQ 1066 631 1291 507 \nQ 1516 384 1775 384 \nQ 2178 384 2440 643 \nQ 2703 903 2703 1303 \nQ 2703 1709 2433 1975 \nQ 2163 2241 1756 2241 \nQ 1359 2241 1098 1978 \nQ 838 1716 838 1322 \nz\n\" id=\"ArialMT-38\" transform=\"scale(0.015625)\"/>\n     </defs>\n     <use xlink:href=\"#ArialMT-38\"/>\n    </g>\n   </g>\n   <g id=\"text_8\">\n    <!-- 0 -->\n    <g style=\"fill:#0b0405;\" transform=\"translate(193.205781 67.724063)scale(0.1 -0.1)\">\n     <use xlink:href=\"#ArialMT-30\"/>\n    </g>\n   </g>\n   <g id=\"text_9\">\n    <!-- 0 -->\n    <g style=\"fill:#0b0405;\" transform=\"translate(84.485781 176.444063)scale(0.1 -0.1)\">\n     <use xlink:href=\"#ArialMT-30\"/>\n    </g>\n   </g>\n   <g id=\"text_10\">\n    <!-- 7 -->\n    <g style=\"fill:#def5e5;\" transform=\"translate(193.205781 176.444063)scale(0.1 -0.1)\">\n     <defs>\n      <path d=\"M 303 3981 \nL 303 4522 \nL 3269 4522 \nL 3269 4084 \nQ 2831 3619 2401 2847 \nQ 1972 2075 1738 1259 \nQ 1569 684 1522 0 \nL 944 0 \nQ 953 541 1156 1306 \nQ 1359 2072 1739 2783 \nQ 2119 3494 2547 3981 \nL 303 3981 \nz\n\" id=\"ArialMT-37\" transform=\"scale(0.015625)\"/>\n     </defs>\n     <use xlink:href=\"#ArialMT-37\"/>\n    </g>\n   </g>\n  </g>\n  <g id=\"axes_2\">\n   <g id=\"patch_7\">\n    <path d=\"M 267.08625 228.218906 \nL 277.95825 228.218906 \nL 277.95825 10.778906 \nL 267.08625 10.778906 \nz\n\" style=\"fill:#eaeaf2;\"/>\n   </g>\n   <g id=\"patch_8\">\n    <path clip-path=\"url(#pf0ecb53119)\" d=\"M 267.08625 228.218906 \nL 267.08625 227.369531 \nL 267.08625 11.628281 \nL 267.08625 10.778906 \nL 277.95825 10.778906 \nL 277.95825 11.628281 \nL 277.95825 227.369531 \nL 277.95825 228.218906 \nL 277.95825 228.218906 \nz\n\" style=\"fill:#eaeaf2;stroke:#eaeaf2;stroke-linejoin:miter;stroke-width:0.01;\"/>\n   </g>\n   <g id=\"matplotlib.axis_3\"/>\n   <g id=\"matplotlib.axis_4\">\n    <g id=\"ytick_3\">\n     <g id=\"line2d_1\">\n      <defs>\n       <path d=\"M 0 0 \nL 3.5 0 \n\" id=\"m3f7b648480\" style=\"stroke:#262626;stroke-width:0.8;\"/>\n      </defs>\n      <g>\n       <use style=\"fill:#262626;stroke:#262626;stroke-width:0.8;\" x=\"277.95825\" xlink:href=\"#m3f7b648480\" y=\"228.218906\"/>\n      </g>\n     </g>\n     <g id=\"text_11\">\n      <!-- 0 -->\n      <g style=\"fill:#262626;\" transform=\"translate(284.95825 231.797812)scale(0.1 -0.1)\">\n       <use xlink:href=\"#ArialMT-30\"/>\n      </g>\n     </g>\n    </g>\n    <g id=\"ytick_4\">\n     <g id=\"line2d_2\">\n      <g>\n       <use style=\"fill:#262626;stroke:#262626;stroke-width:0.8;\" x=\"277.95825\" xlink:href=\"#m3f7b648480\" y=\"201.038906\"/>\n      </g>\n     </g>\n     <g id=\"text_12\">\n      <!-- 1 -->\n      <g style=\"fill:#262626;\" transform=\"translate(284.95825 204.617812)scale(0.1 -0.1)\">\n       <use xlink:href=\"#ArialMT-31\"/>\n      </g>\n     </g>\n    </g>\n    <g id=\"ytick_5\">\n     <g id=\"line2d_3\">\n      <g>\n       <use style=\"fill:#262626;stroke:#262626;stroke-width:0.8;\" x=\"277.95825\" xlink:href=\"#m3f7b648480\" y=\"173.858906\"/>\n      </g>\n     </g>\n     <g id=\"text_13\">\n      <!-- 2 -->\n      <g style=\"fill:#262626;\" transform=\"translate(284.95825 177.437812)scale(0.1 -0.1)\">\n       <defs>\n        <path d=\"M 3222 541 \nL 3222 0 \nL 194 0 \nQ 188 203 259 391 \nQ 375 700 629 1000 \nQ 884 1300 1366 1694 \nQ 2113 2306 2375 2664 \nQ 2638 3022 2638 3341 \nQ 2638 3675 2398 3904 \nQ 2159 4134 1775 4134 \nQ 1369 4134 1125 3890 \nQ 881 3647 878 3216 \nL 300 3275 \nQ 359 3922 746 4261 \nQ 1134 4600 1788 4600 \nQ 2447 4600 2831 4234 \nQ 3216 3869 3216 3328 \nQ 3216 3053 3103 2787 \nQ 2991 2522 2730 2228 \nQ 2469 1934 1863 1422 \nQ 1356 997 1212 845 \nQ 1069 694 975 541 \nL 3222 541 \nz\n\" id=\"ArialMT-32\" transform=\"scale(0.015625)\"/>\n       </defs>\n       <use xlink:href=\"#ArialMT-32\"/>\n      </g>\n     </g>\n    </g>\n    <g id=\"ytick_6\">\n     <g id=\"line2d_4\">\n      <g>\n       <use style=\"fill:#262626;stroke:#262626;stroke-width:0.8;\" x=\"277.95825\" xlink:href=\"#m3f7b648480\" y=\"146.678906\"/>\n      </g>\n     </g>\n     <g id=\"text_14\">\n      <!-- 3 -->\n      <g style=\"fill:#262626;\" transform=\"translate(284.95825 150.257812)scale(0.1 -0.1)\">\n       <defs>\n        <path d=\"M 269 1209 \nL 831 1284 \nQ 928 806 1161 595 \nQ 1394 384 1728 384 \nQ 2125 384 2398 659 \nQ 2672 934 2672 1341 \nQ 2672 1728 2419 1979 \nQ 2166 2231 1775 2231 \nQ 1616 2231 1378 2169 \nL 1441 2663 \nQ 1497 2656 1531 2656 \nQ 1891 2656 2178 2843 \nQ 2466 3031 2466 3422 \nQ 2466 3731 2256 3934 \nQ 2047 4138 1716 4138 \nQ 1388 4138 1169 3931 \nQ 950 3725 888 3313 \nL 325 3413 \nQ 428 3978 793 4289 \nQ 1159 4600 1703 4600 \nQ 2078 4600 2393 4439 \nQ 2709 4278 2876 4000 \nQ 3044 3722 3044 3409 \nQ 3044 3113 2884 2869 \nQ 2725 2625 2413 2481 \nQ 2819 2388 3044 2092 \nQ 3269 1797 3269 1353 \nQ 3269 753 2831 336 \nQ 2394 -81 1725 -81 \nQ 1122 -81 723 278 \nQ 325 638 269 1209 \nz\n\" id=\"ArialMT-33\" transform=\"scale(0.015625)\"/>\n       </defs>\n       <use xlink:href=\"#ArialMT-33\"/>\n      </g>\n     </g>\n    </g>\n    <g id=\"ytick_7\">\n     <g id=\"line2d_5\">\n      <g>\n       <use style=\"fill:#262626;stroke:#262626;stroke-width:0.8;\" x=\"277.95825\" xlink:href=\"#m3f7b648480\" y=\"119.498906\"/>\n      </g>\n     </g>\n     <g id=\"text_15\">\n      <!-- 4 -->\n      <g style=\"fill:#262626;\" transform=\"translate(284.95825 123.077812)scale(0.1 -0.1)\">\n       <defs>\n        <path d=\"M 2069 0 \nL 2069 1097 \nL 81 1097 \nL 81 1613 \nL 2172 4581 \nL 2631 4581 \nL 2631 1613 \nL 3250 1613 \nL 3250 1097 \nL 2631 1097 \nL 2631 0 \nL 2069 0 \nz\nM 2069 1613 \nL 2069 3678 \nL 634 1613 \nL 2069 1613 \nz\n\" id=\"ArialMT-34\" transform=\"scale(0.015625)\"/>\n       </defs>\n       <use xlink:href=\"#ArialMT-34\"/>\n      </g>\n     </g>\n    </g>\n    <g id=\"ytick_8\">\n     <g id=\"line2d_6\">\n      <g>\n       <use style=\"fill:#262626;stroke:#262626;stroke-width:0.8;\" x=\"277.95825\" xlink:href=\"#m3f7b648480\" y=\"92.318906\"/>\n      </g>\n     </g>\n     <g id=\"text_16\">\n      <!-- 5 -->\n      <g style=\"fill:#262626;\" transform=\"translate(284.95825 95.897812)scale(0.1 -0.1)\">\n       <defs>\n        <path d=\"M 266 1200 \nL 856 1250 \nQ 922 819 1161 601 \nQ 1400 384 1738 384 \nQ 2144 384 2425 690 \nQ 2706 997 2706 1503 \nQ 2706 1984 2436 2262 \nQ 2166 2541 1728 2541 \nQ 1456 2541 1237 2417 \nQ 1019 2294 894 2097 \nL 366 2166 \nL 809 4519 \nL 3088 4519 \nL 3088 3981 \nL 1259 3981 \nL 1013 2750 \nQ 1425 3038 1878 3038 \nQ 2478 3038 2890 2622 \nQ 3303 2206 3303 1553 \nQ 3303 931 2941 478 \nQ 2500 -78 1738 -78 \nQ 1113 -78 717 272 \nQ 322 622 266 1200 \nz\n\" id=\"ArialMT-35\" transform=\"scale(0.015625)\"/>\n       </defs>\n       <use xlink:href=\"#ArialMT-35\"/>\n      </g>\n     </g>\n    </g>\n    <g id=\"ytick_9\">\n     <g id=\"line2d_7\">\n      <g>\n       <use style=\"fill:#262626;stroke:#262626;stroke-width:0.8;\" x=\"277.95825\" xlink:href=\"#m3f7b648480\" y=\"65.138906\"/>\n      </g>\n     </g>\n     <g id=\"text_17\">\n      <!-- 6 -->\n      <g style=\"fill:#262626;\" transform=\"translate(284.95825 68.717812)scale(0.1 -0.1)\">\n       <defs>\n        <path d=\"M 3184 3459 \nL 2625 3416 \nQ 2550 3747 2413 3897 \nQ 2184 4138 1850 4138 \nQ 1581 4138 1378 3988 \nQ 1113 3794 959 3422 \nQ 806 3050 800 2363 \nQ 1003 2672 1297 2822 \nQ 1591 2972 1913 2972 \nQ 2475 2972 2870 2558 \nQ 3266 2144 3266 1488 \nQ 3266 1056 3080 686 \nQ 2894 316 2569 119 \nQ 2244 -78 1831 -78 \nQ 1128 -78 684 439 \nQ 241 956 241 2144 \nQ 241 3472 731 4075 \nQ 1159 4600 1884 4600 \nQ 2425 4600 2770 4297 \nQ 3116 3994 3184 3459 \nz\nM 888 1484 \nQ 888 1194 1011 928 \nQ 1134 663 1356 523 \nQ 1578 384 1822 384 \nQ 2178 384 2434 671 \nQ 2691 959 2691 1453 \nQ 2691 1928 2437 2201 \nQ 2184 2475 1800 2475 \nQ 1419 2475 1153 2201 \nQ 888 1928 888 1484 \nz\n\" id=\"ArialMT-36\" transform=\"scale(0.015625)\"/>\n       </defs>\n       <use xlink:href=\"#ArialMT-36\"/>\n      </g>\n     </g>\n    </g>\n    <g id=\"ytick_10\">\n     <g id=\"line2d_8\">\n      <g>\n       <use style=\"fill:#262626;stroke:#262626;stroke-width:0.8;\" x=\"277.95825\" xlink:href=\"#m3f7b648480\" y=\"37.958906\"/>\n      </g>\n     </g>\n     <g id=\"text_18\">\n      <!-- 7 -->\n      <g style=\"fill:#262626;\" transform=\"translate(284.95825 41.537813)scale(0.1 -0.1)\">\n       <use xlink:href=\"#ArialMT-37\"/>\n      </g>\n     </g>\n    </g>\n    <g id=\"ytick_11\">\n     <g id=\"line2d_9\">\n      <g>\n       <use style=\"fill:#262626;stroke:#262626;stroke-width:0.8;\" x=\"277.95825\" xlink:href=\"#m3f7b648480\" y=\"10.778906\"/>\n      </g>\n     </g>\n     <g id=\"text_19\">\n      <!-- 8 -->\n      <g style=\"fill:#262626;\" transform=\"translate(284.95825 14.357812)scale(0.1 -0.1)\">\n       <use xlink:href=\"#ArialMT-38\"/>\n      </g>\n     </g>\n    </g>\n   </g>\n   <image height=\"218\" id=\"image1271aa2563\" transform=\"scale(1 -1)translate(0 -218)\" width=\"11\" x=\"267\" xlink:href=\"data:image/png;base64,\niVBORw0KGgoAAAANSUhEUgAAAAsAAADaCAYAAABwzrisAAABYElEQVR4nNXayw3DMAyDYRvI/iP21hF6aWK5K/g7EFBzJgTqp6zm0fn6vPc4vK7adapl8bELrTxA/NRK2aAGxXPOxlMPVB6pBFeuwQ1xmw2jAeIcjTsWygrSELHYuCtV2Txbg+fX9S2KGyojDakcpAFiGI1kg2Sj9jwX31a5hRgW0rhWLG4IEMU5G7AJkg1Sgk0ahFUXRUdi2IxKA9ZXF84yG3Bjzp4BnVWOeUaxNJjjbJVToQTFcuOa49wFXRcaJI6hyw1/DN3ssmSazDOJW3ieTdDJbU+TuG344VHzPxOUeZ5yUoINkufYrpv2O0ieCV2MBjzSq2eojA2m0A35kDHlTSAuxh6VhcaQjy9kY+doyJeaLp6Fs9kQGvjcLZ6Dg5SaDeMs7/mpsoljpxs9txgkohFssAfnvVOrwDznTgrFbaHkaKRs1D/SsE9+LU53cJ5zcTc5sLFBoj/VWGWg8QPYJMmIBPclqwAAAABJRU5ErkJggg==\" y=\"-10\"/>\n   <g id=\"LineCollection_1\"/>\n   <g id=\"patch_9\">\n    <path d=\"M 267.08625 228.218906 \nL 267.08625 227.369531 \nL 267.08625 11.628281 \nL 267.08625 10.778906 \nL 277.95825 10.778906 \nL 277.95825 11.628281 \nL 277.95825 227.369531 \nL 277.95825 228.218906 \nz\n\" style=\"fill:none;stroke:#ffffff;stroke-linecap:square;stroke-linejoin:miter;stroke-width:0.8;\"/>\n   </g>\n  </g>\n </g>\n <defs>\n  <clipPath id=\"p19b5fb2543\">\n   <rect height=\"217.44\" width=\"217.44\" x=\"32.90625\" y=\"10.778906\"/>\n  </clipPath>\n  <clipPath id=\"pf0ecb53119\">\n   <rect height=\"217.44\" width=\"10.872\" x=\"267.08625\" y=\"10.778906\"/>\n  </clipPath>\n </defs>\n</svg>\n",
      "image/png": "[encoded data removed]"
     },
     "metadata": {}
    }
   ],
   "source": [
    "prediction = pipeline.predict(X_val)\n",
    "\n",
    "print(f\"Accuracy Score : {round(accuracy_score(y_val, prediction) * 100, 2)}%\")\n",
    "\n",
    "print(classification_report(y_val, prediction))\n",
    "\n",
    "plot_confusion_matrix(pipeline, X_val, y_val, cmap=cmap)\n",
    "plt.grid(False)\n",
    "plt.show()"
   ]
  }
 ]
}